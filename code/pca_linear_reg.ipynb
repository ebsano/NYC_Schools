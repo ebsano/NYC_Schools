{
 "cells": [
  {
   "cell_type": "code",
   "execution_count": 2,
   "metadata": {},
   "outputs": [],
   "source": [
    "import pandas as pd\n",
    "import numpy as np\n",
    "import matplotlib.pyplot as plt\n",
    "import seaborn as sns\n",
    "\n",
    "# Import from sklearn.\n",
    "from sklearn.model_selection import train_test_split\n",
    "from sklearn.dummy import DummyRegressor\n",
    "from sklearn.linear_model import LinearRegression\n",
    "from sklearn.preprocessing import StandardScaler\n",
    "from sklearn.decomposition import PCA\n",
    "\n",
    "from sklearn.pipeline import make_pipeline\n",
    "from sklearn.model_selection import GridSearchCV\n",
    "\n",
    "from yellowbrick.features import pca_decomposition"
   ]
  },
  {
   "cell_type": "code",
   "execution_count": 3,
   "metadata": {},
   "outputs": [],
   "source": [
    "df_15 = pd.read_csv('../data/survey_scores_clean_15.csv')\n",
    "df_16 = pd.read_csv('../data/survey_scores_clean_16.csv')\n",
    "df_17 = pd.read_csv('../data/survey_scores_clean_17.csv')\n",
    "df_18 = pd.read_csv('../data/survey_scores_clean_18.csv')\n",
    "df_19 = pd.read_csv('../data/survey_scores_clean_19.csv')"
   ]
  },
  {
   "cell_type": "code",
   "execution_count": 4,
   "metadata": {},
   "outputs": [
    {
     "data": {
      "text/html": [
       "<div>\n",
       "<style scoped>\n",
       "    .dataframe tbody tr th:only-of-type {\n",
       "        vertical-align: middle;\n",
       "    }\n",
       "\n",
       "    .dataframe tbody tr th {\n",
       "        vertical-align: top;\n",
       "    }\n",
       "\n",
       "    .dataframe thead th {\n",
       "        text-align: right;\n",
       "    }\n",
       "</style>\n",
       "<table border=\"1\" class=\"dataframe\">\n",
       "  <thead>\n",
       "    <tr style=\"text-align: right;\">\n",
       "      <th></th>\n",
       "      <th>dbn</th>\n",
       "      <th>school_name</th>\n",
       "      <th>student_response_rate</th>\n",
       "      <th>1a_2_s</th>\n",
       "      <th>1a_3_s</th>\n",
       "      <th>1a_4_s</th>\n",
       "      <th>1a_5_s</th>\n",
       "      <th>1b_1_s</th>\n",
       "      <th>1b_2_s</th>\n",
       "      <th>1b_3_s</th>\n",
       "      <th>...</th>\n",
       "      <th>10d_4_p</th>\n",
       "      <th>10e_1_p</th>\n",
       "      <th>10e_2_p</th>\n",
       "      <th>10e_3_p</th>\n",
       "      <th>10e_4_p</th>\n",
       "      <th>number_tested_ela</th>\n",
       "      <th>mean_score_ela</th>\n",
       "      <th>number_tested_math</th>\n",
       "      <th>mean_score_math</th>\n",
       "      <th>combined_mean_score</th>\n",
       "    </tr>\n",
       "  </thead>\n",
       "  <tbody>\n",
       "    <tr>\n",
       "      <th>0</th>\n",
       "      <td>01M034</td>\n",
       "      <td>P.S. 034 FRANKLIN D. ROOSEVELT</td>\n",
       "      <td>95.0</td>\n",
       "      <td>10.0</td>\n",
       "      <td>20.0</td>\n",
       "      <td>39.0</td>\n",
       "      <td>16.0</td>\n",
       "      <td>15.0</td>\n",
       "      <td>5.0</td>\n",
       "      <td>23.0</td>\n",
       "      <td>...</td>\n",
       "      <td>40.0</td>\n",
       "      <td>60.0</td>\n",
       "      <td>0.0</td>\n",
       "      <td>0.0</td>\n",
       "      <td>40.0</td>\n",
       "      <td>198.0</td>\n",
       "      <td>589.348511</td>\n",
       "      <td>194.0</td>\n",
       "      <td>586.479370</td>\n",
       "      <td>587.928579</td>\n",
       "    </tr>\n",
       "    <tr>\n",
       "      <th>1</th>\n",
       "      <td>01M140</td>\n",
       "      <td>P.S. 140 NATHAN STRAUS</td>\n",
       "      <td>87.0</td>\n",
       "      <td>8.0</td>\n",
       "      <td>28.0</td>\n",
       "      <td>38.0</td>\n",
       "      <td>11.0</td>\n",
       "      <td>14.0</td>\n",
       "      <td>5.0</td>\n",
       "      <td>22.0</td>\n",
       "      <td>...</td>\n",
       "      <td>60.0</td>\n",
       "      <td>40.0</td>\n",
       "      <td>0.0</td>\n",
       "      <td>20.0</td>\n",
       "      <td>60.0</td>\n",
       "      <td>216.0</td>\n",
       "      <td>590.851868</td>\n",
       "      <td>219.0</td>\n",
       "      <td>588.333313</td>\n",
       "      <td>589.583906</td>\n",
       "    </tr>\n",
       "    <tr>\n",
       "      <th>2</th>\n",
       "      <td>01M184</td>\n",
       "      <td>P.S. 184M SHUANG WEN</td>\n",
       "      <td>100.0</td>\n",
       "      <td>9.0</td>\n",
       "      <td>22.0</td>\n",
       "      <td>46.0</td>\n",
       "      <td>14.0</td>\n",
       "      <td>10.0</td>\n",
       "      <td>9.0</td>\n",
       "      <td>23.0</td>\n",
       "      <td>...</td>\n",
       "      <td>89.0</td>\n",
       "      <td>11.0</td>\n",
       "      <td>6.0</td>\n",
       "      <td>13.0</td>\n",
       "      <td>63.0</td>\n",
       "      <td>413.0</td>\n",
       "      <td>612.617432</td>\n",
       "      <td>422.0</td>\n",
       "      <td>619.056885</td>\n",
       "      <td>615.871862</td>\n",
       "    </tr>\n",
       "    <tr>\n",
       "      <th>3</th>\n",
       "      <td>01M188</td>\n",
       "      <td>P.S. 188 THE ISLAND SCHOOL</td>\n",
       "      <td>66.0</td>\n",
       "      <td>0.0</td>\n",
       "      <td>0.0</td>\n",
       "      <td>7.0</td>\n",
       "      <td>93.0</td>\n",
       "      <td>0.0</td>\n",
       "      <td>0.0</td>\n",
       "      <td>0.0</td>\n",
       "      <td>...</td>\n",
       "      <td>0.0</td>\n",
       "      <td>0.0</td>\n",
       "      <td>0.0</td>\n",
       "      <td>0.0</td>\n",
       "      <td>0.0</td>\n",
       "      <td>269.0</td>\n",
       "      <td>593.821533</td>\n",
       "      <td>219.0</td>\n",
       "      <td>597.223755</td>\n",
       "      <td>595.348350</td>\n",
       "    </tr>\n",
       "    <tr>\n",
       "      <th>4</th>\n",
       "      <td>01M332</td>\n",
       "      <td>UNIVERSITY NEIGHBORHOOD MIDDLE SCHOOL</td>\n",
       "      <td>92.0</td>\n",
       "      <td>3.0</td>\n",
       "      <td>11.0</td>\n",
       "      <td>59.0</td>\n",
       "      <td>19.0</td>\n",
       "      <td>9.0</td>\n",
       "      <td>3.0</td>\n",
       "      <td>10.0</td>\n",
       "      <td>...</td>\n",
       "      <td>0.0</td>\n",
       "      <td>0.0</td>\n",
       "      <td>0.0</td>\n",
       "      <td>0.0</td>\n",
       "      <td>0.0</td>\n",
       "      <td>175.0</td>\n",
       "      <td>592.234314</td>\n",
       "      <td>173.0</td>\n",
       "      <td>586.115601</td>\n",
       "      <td>589.192540</td>\n",
       "    </tr>\n",
       "  </tbody>\n",
       "</table>\n",
       "<p>5 rows × 1044 columns</p>\n",
       "</div>"
      ],
      "text/plain": [
       "      dbn                            school_name  student_response_rate  \\\n",
       "0  01M034         P.S. 034 FRANKLIN D. ROOSEVELT                   95.0   \n",
       "1  01M140                 P.S. 140 NATHAN STRAUS                   87.0   \n",
       "2  01M184                   P.S. 184M SHUANG WEN                  100.0   \n",
       "3  01M188             P.S. 188 THE ISLAND SCHOOL                   66.0   \n",
       "4  01M332  UNIVERSITY NEIGHBORHOOD MIDDLE SCHOOL                   92.0   \n",
       "\n",
       "   1a_2_s  1a_3_s  1a_4_s  1a_5_s  1b_1_s  1b_2_s  1b_3_s  ...  10d_4_p  \\\n",
       "0    10.0    20.0    39.0    16.0    15.0     5.0    23.0  ...     40.0   \n",
       "1     8.0    28.0    38.0    11.0    14.0     5.0    22.0  ...     60.0   \n",
       "2     9.0    22.0    46.0    14.0    10.0     9.0    23.0  ...     89.0   \n",
       "3     0.0     0.0     7.0    93.0     0.0     0.0     0.0  ...      0.0   \n",
       "4     3.0    11.0    59.0    19.0     9.0     3.0    10.0  ...      0.0   \n",
       "\n",
       "   10e_1_p  10e_2_p  10e_3_p  10e_4_p  number_tested_ela  mean_score_ela  \\\n",
       "0     60.0      0.0      0.0     40.0              198.0      589.348511   \n",
       "1     40.0      0.0     20.0     60.0              216.0      590.851868   \n",
       "2     11.0      6.0     13.0     63.0              413.0      612.617432   \n",
       "3      0.0      0.0      0.0      0.0              269.0      593.821533   \n",
       "4      0.0      0.0      0.0      0.0              175.0      592.234314   \n",
       "\n",
       "   number_tested_math  mean_score_math  combined_mean_score  \n",
       "0               194.0       586.479370           587.928579  \n",
       "1               219.0       588.333313           589.583906  \n",
       "2               422.0       619.056885           615.871862  \n",
       "3               219.0       597.223755           595.348350  \n",
       "4               173.0       586.115601           589.192540  \n",
       "\n",
       "[5 rows x 1044 columns]"
      ]
     },
     "execution_count": 4,
     "metadata": {},
     "output_type": "execute_result"
    }
   ],
   "source": [
    "df_19.head()"
   ]
  },
  {
   "cell_type": "code",
   "execution_count": 5,
   "metadata": {},
   "outputs": [
    {
     "data": {
      "text/plain": [
       "(482, 1044)"
      ]
     },
     "execution_count": 5,
     "metadata": {},
     "output_type": "execute_result"
    }
   ],
   "source": [
    "df_19.shape"
   ]
  },
  {
   "cell_type": "markdown",
   "metadata": {},
   "source": [
    "### Dimentional reduction using PCA\n",
    "The goal is to see if the survey has predictive power, so all numberical data from the surveys are going to be used to predict the combined score (from ELA and Math)."
   ]
  },
  {
   "cell_type": "code",
   "execution_count": 6,
   "metadata": {},
   "outputs": [],
   "source": [
    "# start with year 2019 instiating X and y\n",
    "X_19 = df_19.iloc[:, 2:]\n",
    "X_19 = X_19.iloc[:, :-6]\n",
    "\n",
    "y_19 = df_19['combined_mean_score']"
   ]
  },
  {
   "cell_type": "code",
   "execution_count": 7,
   "metadata": {},
   "outputs": [
    {
     "data": {
      "text/html": [
       "<div>\n",
       "<style scoped>\n",
       "    .dataframe tbody tr th:only-of-type {\n",
       "        vertical-align: middle;\n",
       "    }\n",
       "\n",
       "    .dataframe tbody tr th {\n",
       "        vertical-align: top;\n",
       "    }\n",
       "\n",
       "    .dataframe thead th {\n",
       "        text-align: right;\n",
       "    }\n",
       "</style>\n",
       "<table border=\"1\" class=\"dataframe\">\n",
       "  <thead>\n",
       "    <tr style=\"text-align: right;\">\n",
       "      <th></th>\n",
       "      <th>student_response_rate</th>\n",
       "      <th>1a_2_s</th>\n",
       "      <th>1a_3_s</th>\n",
       "      <th>1a_4_s</th>\n",
       "      <th>1a_5_s</th>\n",
       "      <th>1b_1_s</th>\n",
       "      <th>1b_2_s</th>\n",
       "      <th>1b_3_s</th>\n",
       "      <th>1b_4_s</th>\n",
       "      <th>1b_5_s</th>\n",
       "      <th>...</th>\n",
       "      <th>10c_2_p</th>\n",
       "      <th>10c_3_p</th>\n",
       "      <th>10c_4_p</th>\n",
       "      <th>10d_1_p</th>\n",
       "      <th>10d_2_p</th>\n",
       "      <th>10d_3_p</th>\n",
       "      <th>10d_4_p</th>\n",
       "      <th>10e_1_p</th>\n",
       "      <th>10e_2_p</th>\n",
       "      <th>10e_3_p</th>\n",
       "    </tr>\n",
       "  </thead>\n",
       "  <tbody>\n",
       "    <tr>\n",
       "      <th>0</th>\n",
       "      <td>95.0</td>\n",
       "      <td>10.0</td>\n",
       "      <td>20.0</td>\n",
       "      <td>39.0</td>\n",
       "      <td>16.0</td>\n",
       "      <td>15.0</td>\n",
       "      <td>5.0</td>\n",
       "      <td>23.0</td>\n",
       "      <td>38.0</td>\n",
       "      <td>17.0</td>\n",
       "      <td>...</td>\n",
       "      <td>0.0</td>\n",
       "      <td>0.0</td>\n",
       "      <td>40.0</td>\n",
       "      <td>60.0</td>\n",
       "      <td>0.0</td>\n",
       "      <td>0.0</td>\n",
       "      <td>40.0</td>\n",
       "      <td>60.0</td>\n",
       "      <td>0.0</td>\n",
       "      <td>0.0</td>\n",
       "    </tr>\n",
       "    <tr>\n",
       "      <th>1</th>\n",
       "      <td>87.0</td>\n",
       "      <td>8.0</td>\n",
       "      <td>28.0</td>\n",
       "      <td>38.0</td>\n",
       "      <td>11.0</td>\n",
       "      <td>14.0</td>\n",
       "      <td>5.0</td>\n",
       "      <td>22.0</td>\n",
       "      <td>45.0</td>\n",
       "      <td>17.0</td>\n",
       "      <td>...</td>\n",
       "      <td>0.0</td>\n",
       "      <td>0.0</td>\n",
       "      <td>60.0</td>\n",
       "      <td>40.0</td>\n",
       "      <td>0.0</td>\n",
       "      <td>0.0</td>\n",
       "      <td>60.0</td>\n",
       "      <td>40.0</td>\n",
       "      <td>0.0</td>\n",
       "      <td>20.0</td>\n",
       "    </tr>\n",
       "  </tbody>\n",
       "</table>\n",
       "<p>2 rows × 1036 columns</p>\n",
       "</div>"
      ],
      "text/plain": [
       "   student_response_rate  1a_2_s  1a_3_s  1a_4_s  1a_5_s  1b_1_s  1b_2_s  \\\n",
       "0                   95.0    10.0    20.0    39.0    16.0    15.0     5.0   \n",
       "1                   87.0     8.0    28.0    38.0    11.0    14.0     5.0   \n",
       "\n",
       "   1b_3_s  1b_4_s  1b_5_s  ...  10c_2_p  10c_3_p  10c_4_p  10d_1_p  10d_2_p  \\\n",
       "0    23.0    38.0    17.0  ...      0.0      0.0     40.0     60.0      0.0   \n",
       "1    22.0    45.0    17.0  ...      0.0      0.0     60.0     40.0      0.0   \n",
       "\n",
       "   10d_3_p  10d_4_p  10e_1_p  10e_2_p  10e_3_p  \n",
       "0      0.0     40.0     60.0      0.0      0.0  \n",
       "1      0.0     60.0     40.0      0.0     20.0  \n",
       "\n",
       "[2 rows x 1036 columns]"
      ]
     },
     "execution_count": 7,
     "metadata": {},
     "output_type": "execute_result"
    }
   ],
   "source": [
    "X_19.head(2)"
   ]
  },
  {
   "cell_type": "code",
   "execution_count": 8,
   "metadata": {},
   "outputs": [
    {
     "data": {
      "text/plain": [
       "0    587.928579\n",
       "1    589.583906\n",
       "Name: combined_mean_score, dtype: float64"
      ]
     },
     "execution_count": 8,
     "metadata": {},
     "output_type": "execute_result"
    }
   ],
   "source": [
    "y_19[:2]"
   ]
  },
  {
   "cell_type": "code",
   "execution_count": 138,
   "metadata": {},
   "outputs": [
    {
     "data": {
      "text/plain": [
       "361"
      ]
     },
     "execution_count": 138,
     "metadata": {},
     "output_type": "execute_result"
    }
   ],
   "source": [
    "len(X_train_ss_19)"
   ]
  },
  {
   "cell_type": "code",
   "execution_count": 41,
   "metadata": {},
   "outputs": [],
   "source": [
    "# train test split\n",
    "X_train_19, X_test_19, y_train_19, y_test_19 = train_test_split(X_19, y_19, random_state=77)\n",
    "\n",
    "# Instantiate our StandardScaler\n",
    "ss = StandardScaler()\n",
    "\n",
    "# Standardize X_train\n",
    "X_train_ss_19 = ss.fit_transform(X_train_19)\n",
    "\n",
    "# Standardize X_test\n",
    "X_test_ss_19 = ss.transform(X_test_19)"
   ]
  },
  {
   "cell_type": "code",
   "execution_count": 42,
   "metadata": {},
   "outputs": [],
   "source": [
    "# instatiate pca\n",
    "pca_19 = PCA()"
   ]
  },
  {
   "cell_type": "code",
   "execution_count": 43,
   "metadata": {},
   "outputs": [
    {
     "data": {
      "text/plain": [
       "PCA()"
      ]
     },
     "execution_count": 43,
     "metadata": {},
     "output_type": "execute_result"
    }
   ],
   "source": [
    "# fit\n",
    "pca_19.fit(X_train_ss_19)"
   ]
  },
  {
   "cell_type": "code",
   "execution_count": 44,
   "metadata": {},
   "outputs": [],
   "source": [
    "# transform to get pcs\n",
    "Z_train_19 = pca_19.transform(X_train_ss_19)"
   ]
  },
  {
   "cell_type": "code",
   "execution_count": 45,
   "metadata": {},
   "outputs": [],
   "source": [
    "Z_test_19 = pca_19.transform(X_test_ss_19)"
   ]
  },
  {
   "cell_type": "code",
   "execution_count": 130,
   "metadata": {},
   "outputs": [
    {
     "name": "stdout",
     "output_type": "stream",
     "text": [
      "Explained variance (first 50 components): [0.21257416 0.06864355 0.05272137 0.04946381 0.03888201 0.03116846\n",
      " 0.02331199 0.0224053  0.01957751 0.0141135  0.01200963 0.01133517\n",
      " 0.01116069 0.00995797 0.00973428 0.00907993 0.00865345 0.00814028\n",
      " 0.0079028  0.00745802 0.0070929  0.00689484 0.00675057 0.00652178\n",
      " 0.00586924 0.00564668 0.00540444 0.00519378 0.00502272 0.00490641\n",
      " 0.0048205  0.00463201 0.0045002  0.00443364 0.00429517 0.00428132\n",
      " 0.00416435 0.00402749 0.00394929 0.00389912 0.00385258 0.00372619\n",
      " 0.00368739 0.00363456 0.0035194  0.00349248 0.0033991  0.00336211\n",
      " 0.00325636 0.00314561]\n",
      "\n",
      "Cumulative explained variance (first 50 components): [0.21257416 0.2812177  0.33393908 0.38340289 0.4222849  0.45345336\n",
      " 0.47676535 0.49917065 0.51874815 0.53286165 0.54487128 0.55620645\n",
      " 0.56736714 0.57732511 0.58705939 0.59613932 0.60479277 0.61293305\n",
      " 0.62083585 0.62829387 0.63538677 0.64228161 0.64903218 0.65555395\n",
      " 0.6614232  0.66706988 0.67247432 0.6776681  0.68269082 0.68759723\n",
      " 0.69241773 0.69704974 0.70154994 0.70598358 0.71027875 0.71456007\n",
      " 0.71872442 0.72275191 0.7267012  0.73060032 0.7344529  0.73817909\n",
      " 0.74186649 0.74550105 0.74902045 0.75251293 0.75591204 0.75927415\n",
      " 0.76253051 0.76567612]\n"
     ]
    }
   ],
   "source": [
    "# explained variance \n",
    "var_exp = pca_19.explained_variance_ratio_\n",
    "print(f'Explained variance (first 50 components): {var_exp[:50]}\\n')\n",
    "\n",
    "# cumulative explained variance\n",
    "cum_var_exp = np.cumsum(var_exp)\n",
    "print(f'Cumulative explained variance (first 50 components): {cum_var_exp[:50]}')"
   ]
  },
  {
   "cell_type": "code",
   "execution_count": 151,
   "metadata": {},
   "outputs": [
    {
     "data": {
      "image/png": "[encoded data removed]",
      "text/plain": [
       "<Figure size 576x396 with 1 Axes>"
      ]
     },
     "metadata": {},
     "output_type": "display_data"
    }
   ],
   "source": [
    "# from pca lecture notes\n",
    "# Plot the variance explained (and cumulative variance explained).\n",
    "\n",
    "# Plot the explained variance.\n",
    "plt.plot(range(len(var_exp)), var_exp, lw=3, label = 'Variance Explained')\n",
    "\n",
    "# Plot the cumulative explained variance.\n",
    "plt.plot(range(len(var_exp)), cum_var_exp, lw=3, color = 'orange', label = 'Cumulative Variance Explained')\n",
    "\n",
    "# Add horizontal lines at y=0 and y=1.\n",
    "plt.axhline(y=0, linewidth=1, color='grey', ls='dashed')\n",
    "plt.axhline(y=1, linewidth=1, color='grey', ls='dashed')\n",
    "\n",
    "# Set the limits of the axes.\n",
    "plt.xlim([-0.5,21])\n",
    "plt.ylim([-0.01,1.01])\n",
    "\n",
    "# Label the axes.\n",
    "plt.ylabel('Variance Explained', fontsize=20)\n",
    "plt.xlabel('Principal Component', fontsize=20)\n",
    "\n",
    "# Make the tick labels bigger\n",
    "plt.xticks(range(0, 21, 2), range(1, 22, 2), fontsize=12)\n",
    "plt.yticks(fontsize=12)\n",
    "    \n",
    "# Add title and legend.\n",
    "plt.title('Component vs. Variance Explained', fontsize=24)\n",
    "plt.legend(fontsize=11);"
   ]
  },
  {
   "cell_type": "code",
   "execution_count": 152,
   "metadata": {},
   "outputs": [],
   "source": [
    "eigenvals = pca.explained_variance_"
   ]
  },
  {
   "cell_type": "code",
   "execution_count": 155,
   "metadata": {},
   "outputs": [
    {
     "data": {
      "image/png": "[encoded data removed]",
      "text/plain": [
       "<Figure size 576x396 with 1 Axes>"
      ]
     },
     "metadata": {},
     "output_type": "display_data"
    }
   ],
   "source": [
    "# scree plot\n",
    "plt.plot(var_explained)\n",
    "\n",
    "plt.xlabel('Principal Component')\n",
    "plt.ylabel('Eigenvlues')\n",
    "plt.title('Scree Plot')\n",
    "plt.axhline(y=1, linewidth=1, color='grey', ls='dashed')\n",
    "plt.xlim(0, 30);"
   ]
  },
  {
   "cell_type": "markdown",
   "metadata": {},
   "source": [
    "### Model with linear regression"
   ]
  },
  {
   "cell_type": "code",
   "execution_count": 156,
   "metadata": {},
   "outputs": [
    {
     "data": {
      "text/plain": [
       "GridSearchCV(cv=10,\n",
       "             estimator=Pipeline(steps=[('pca', PCA()),\n",
       "                                       ('linearregression',\n",
       "                                        LinearRegression())]),\n",
       "             param_grid={'pca__n_components': [2, 5, 10, 20, 0.7]})"
      ]
     },
     "execution_count": 156,
     "metadata": {},
     "output_type": "execute_result"
    }
   ],
   "source": [
    "# setup pipeline with PCA and linear regression\n",
    "pipe_19 = make_pipeline(PCA(), LinearRegression())\n",
    "\n",
    "params = {'pca__n_components': [2, 5, 10, 20, 0.7]} \n",
    "\n",
    "grid = GridSearchCV(pipe_19, param_grid=params, cv=10)\n",
    "\n",
    "grid.fit(X_train_ss_19, y_train_19)"
   ]
  },
  {
   "cell_type": "code",
   "execution_count": 157,
   "metadata": {},
   "outputs": [
    {
     "data": {
      "text/plain": [
       "{'pca__n_components': 0.7}"
      ]
     },
     "execution_count": 157,
     "metadata": {},
     "output_type": "execute_result"
    }
   ],
   "source": [
    "grid.best_params_"
   ]
  },
  {
   "cell_type": "code",
   "execution_count": 158,
   "metadata": {},
   "outputs": [],
   "source": [
    "# baseline\n",
    "baseline = DummyRegressor()"
   ]
  },
  {
   "cell_type": "code",
   "execution_count": 159,
   "metadata": {},
   "outputs": [
    {
     "data": {
      "text/plain": [
       "DummyRegressor()"
      ]
     },
     "execution_count": 159,
     "metadata": {},
     "output_type": "execute_result"
    }
   ],
   "source": [
    "baseline.fit(X_train_ss_19, y_train_19)"
   ]
  },
  {
   "cell_type": "code",
   "execution_count": 160,
   "metadata": {},
   "outputs": [
    {
     "data": {
      "text/plain": [
       "0.0"
      ]
     },
     "execution_count": 160,
     "metadata": {},
     "output_type": "execute_result"
    }
   ],
   "source": [
    "baseline.score(X_train_ss_19, y_train_19)"
   ]
  },
  {
   "cell_type": "code",
   "execution_count": 161,
   "metadata": {},
   "outputs": [
    {
     "data": {
      "text/plain": [
       "-0.005950662039365229"
      ]
     },
     "execution_count": 161,
     "metadata": {},
     "output_type": "execute_result"
    }
   ],
   "source": [
    "baseline.score(X_test_ss_19, y_test_19)"
   ]
  },
  {
   "cell_type": "markdown",
   "metadata": {},
   "source": [
    "The null model does not have a predictive power."
   ]
  },
  {
   "cell_type": "code",
   "execution_count": 174,
   "metadata": {},
   "outputs": [
    {
     "data": {
      "text/plain": [
       "33"
      ]
     },
     "execution_count": 174,
     "metadata": {},
     "output_type": "execute_result"
    }
   ],
   "source": [
    "# number of principal components\n",
    "len(grid.best_estimator_.named_steps['pca'].explained_variance_)"
   ]
  },
  {
   "cell_type": "code",
   "execution_count": 177,
   "metadata": {},
   "outputs": [
    {
     "data": {
      "text/plain": [
       "0.8079675498774357"
      ]
     },
     "execution_count": 177,
     "metadata": {},
     "output_type": "execute_result"
    }
   ],
   "source": [
    "r2_train = grid.score(X_train_ss_19, y_train_19)\n",
    "r2_train"
   ]
  },
  {
   "cell_type": "code",
   "execution_count": 176,
   "metadata": {},
   "outputs": [
    {
     "data": {
      "text/plain": [
       "0.8022352616506042"
      ]
     },
     "execution_count": 176,
     "metadata": {},
     "output_type": "execute_result"
    }
   ],
   "source": [
    "r2_test = grid.score(X_test_ss_19, y_test_19)\n",
    "r2_test"
   ]
  },
  {
   "cell_type": "markdown",
   "metadata": {},
   "source": [
    "This is pretty good, but as Jeff mentioned, this may artifactual based on the number of features. Adjusted R2 may be a better metric."
   ]
  },
  {
   "cell_type": "code",
   "execution_count": 178,
   "metadata": {},
   "outputs": [],
   "source": [
    "preds = grid.predict(X_test_ss_19)"
   ]
  },
  {
   "cell_type": "code",
   "execution_count": 59,
   "metadata": {},
   "outputs": [],
   "source": [
    "from sklearn.metrics import r2_score"
   ]
  },
  {
   "cell_type": "code",
   "execution_count": 179,
   "metadata": {},
   "outputs": [
    {
     "data": {
      "text/plain": [
       "0.8022352616506042"
      ]
     },
     "execution_count": 179,
     "metadata": {},
     "output_type": "execute_result"
    }
   ],
   "source": [
    "r2_score(y_test_19, preds)"
   ]
  },
  {
   "cell_type": "code",
   "execution_count": 180,
   "metadata": {},
   "outputs": [],
   "source": [
    "def adj_r2(y_true, y_preds, terms):\n",
    "    '''Calculates the adjusted R2 score from y_true, y_preds, and the  number of explanatory terms.'''\n",
    "    n = len(y_true)\n",
    "    true_mean = np.mean(y_true)\n",
    "    r2 = r2_score(y_true, y_preds)\n",
    "    adj_r2 = 1 - (1 - r2) * (n - 1) / (n - terms - 1)\n",
    "    return adj_r2"
   ]
  },
  {
   "cell_type": "code",
   "execution_count": 181,
   "metadata": {},
   "outputs": [
    {
     "data": {
      "text/plain": [
       "0.7272210505525576"
      ]
     },
     "execution_count": 181,
     "metadata": {},
     "output_type": "execute_result"
    }
   ],
   "source": [
    "adj_r2(y_test_19, preds, 33) # using the number of PCs"
   ]
  },
  {
   "cell_type": "markdown",
   "metadata": {},
   "source": [
    "#### PCA & Linear Regression with Student Survey Data"
   ]
  },
  {
   "cell_type": "code",
   "execution_count": 63,
   "metadata": {},
   "outputs": [],
   "source": [
    "student_19 = pd.read_csv('../data/2019_student_ready.csv')"
   ]
  },
  {
   "cell_type": "code",
   "execution_count": 64,
   "metadata": {},
   "outputs": [],
   "source": [
    "# instatiate X, y for students only\n",
    "X_st = student_19.iloc[:, 2:]\n",
    "X_st = X_st.drop(columns='combined_mean_score')\n",
    "y_st = student_19['combined_mean_score']"
   ]
  },
  {
   "cell_type": "code",
   "execution_count": 66,
   "metadata": {},
   "outputs": [],
   "source": [
    "X_train, X_test, y_train, y_test = train_test_split(X_st, y_st, random_state=77)"
   ]
  },
  {
   "cell_type": "code",
   "execution_count": 107,
   "metadata": {},
   "outputs": [],
   "source": [
    "ss = StandardScaler()"
   ]
  },
  {
   "cell_type": "code",
   "execution_count": 108,
   "metadata": {},
   "outputs": [],
   "source": [
    "X_train_ss = ss.fit_transform(X_train, y_train)"
   ]
  },
  {
   "cell_type": "code",
   "execution_count": 109,
   "metadata": {},
   "outputs": [],
   "source": [
    "X_test_ss = ss.transform(X_test)"
   ]
  },
  {
   "cell_type": "code",
   "execution_count": 73,
   "metadata": {},
   "outputs": [],
   "source": [
    "pca = PCA()"
   ]
  },
  {
   "cell_type": "code",
   "execution_count": 94,
   "metadata": {},
   "outputs": [
    {
     "data": {
      "text/plain": [
       "PCA()"
      ]
     },
     "execution_count": 94,
     "metadata": {},
     "output_type": "execute_result"
    }
   ],
   "source": [
    "pca.fit(X_train_ss)"
   ]
  },
  {
   "cell_type": "code",
   "execution_count": 95,
   "metadata": {},
   "outputs": [],
   "source": [
    "Z_train = pca.transform(X_train)"
   ]
  },
  {
   "cell_type": "code",
   "execution_count": 110,
   "metadata": {},
   "outputs": [],
   "source": [
    "Z_test = pca.transform(X_test)"
   ]
  },
  {
   "cell_type": "code",
   "execution_count": 97,
   "metadata": {},
   "outputs": [
    {
     "data": {
      "text/plain": [
       "array([0.21257416, 0.06864355, 0.05272137, 0.04946381, 0.03888201,\n",
       "       0.03116846, 0.02331199, 0.0224053 , 0.01957751, 0.0141135 ,\n",
       "       0.01200963, 0.01133517, 0.01116069, 0.00995797, 0.00973428,\n",
       "       0.00907993, 0.00865345, 0.00814028, 0.0079028 , 0.00745802,\n",
       "       0.0070929 , 0.00689484, 0.00675057, 0.00652178, 0.00586924,\n",
       "       0.00564668, 0.00540444, 0.00519378, 0.00502272, 0.00490641,\n",
       "       0.0048205 , 0.00463201, 0.0045002 , 0.00443364, 0.00429517,\n",
       "       0.00428132, 0.00416435, 0.00402749, 0.00394929, 0.00389912,\n",
       "       0.00385258, 0.00372619, 0.00368739, 0.00363456, 0.0035194 ,\n",
       "       0.00349248, 0.0033991 , 0.00336211, 0.00325636, 0.00314561])"
      ]
     },
     "execution_count": 97,
     "metadata": {},
     "output_type": "execute_result"
    }
   ],
   "source": [
    "# explained variance \n",
    "var_exp = pca_19.explained_variance_ratio_\n",
    "\n",
    "var_exp[:50]"
   ]
  },
  {
   "cell_type": "code",
   "execution_count": 98,
   "metadata": {},
   "outputs": [
    {
     "data": {
      "text/plain": [
       "array([0.21257416, 0.2812177 , 0.33393908, 0.38340289, 0.4222849 ,\n",
       "       0.45345336, 0.47676535, 0.49917065, 0.51874815, 0.53286165,\n",
       "       0.54487128, 0.55620645, 0.56736714, 0.57732511, 0.58705939,\n",
       "       0.59613932, 0.60479277, 0.61293305, 0.62083585, 0.62829387,\n",
       "       0.63538677, 0.64228161, 0.64903218, 0.65555395, 0.6614232 ,\n",
       "       0.66706988, 0.67247432, 0.6776681 , 0.68269082, 0.68759723,\n",
       "       0.69241773, 0.69704974, 0.70154994, 0.70598358, 0.71027875,\n",
       "       0.71456007, 0.71872442, 0.72275191, 0.7267012 , 0.73060032,\n",
       "       0.7344529 , 0.73817909, 0.74186649, 0.74550105, 0.74902045,\n",
       "       0.75251293, 0.75591204, 0.75927415, 0.76253051, 0.76567612])"
      ]
     },
     "execution_count": 98,
     "metadata": {},
     "output_type": "execute_result"
    }
   ],
   "source": [
    "cum_var_exp = np.cumsum(var_exp)\n",
    "\n",
    "cum_var_exp[:50]"
   ]
  },
  {
   "cell_type": "code",
   "execution_count": 182,
   "metadata": {},
   "outputs": [
    {
     "data": {
      "text/plain": [
       "GridSearchCV(cv=10,\n",
       "             estimator=Pipeline(steps=[('pca', PCA()),\n",
       "                                       ('linearregression',\n",
       "                                        LinearRegression())]),\n",
       "             param_grid={'pca__n_components': [5, 10, 20, 0.7]})"
      ]
     },
     "execution_count": 182,
     "metadata": {},
     "output_type": "execute_result"
    }
   ],
   "source": [
    "pipe_st = make_pipeline(PCA(), LinearRegression())\n",
    "\n",
    "params = {'pca__n_components': [5, 10, 20, 0.7]} \n",
    "\n",
    "grid = GridSearchCV(pipe_st, param_grid=params, cv=10)\n",
    "\n",
    "grid.fit(X_train_ss, y_train)"
   ]
  },
  {
   "cell_type": "code",
   "execution_count": 183,
   "metadata": {},
   "outputs": [
    {
     "data": {
      "text/plain": [
       "{'pca__n_components': 20}"
      ]
     },
     "execution_count": 183,
     "metadata": {},
     "output_type": "execute_result"
    }
   ],
   "source": [
    "grid.best_params_"
   ]
  },
  {
   "cell_type": "code",
   "execution_count": 184,
   "metadata": {},
   "outputs": [
    {
     "data": {
      "text/plain": [
       "DummyRegressor()"
      ]
     },
     "execution_count": 184,
     "metadata": {},
     "output_type": "execute_result"
    }
   ],
   "source": [
    "# baseline with student survey data\n",
    "dummy = DummyRegressor()\n",
    "dummy.fit(X_train_ss, y_train)"
   ]
  },
  {
   "cell_type": "code",
   "execution_count": 185,
   "metadata": {},
   "outputs": [
    {
     "data": {
      "text/plain": [
       "0.0"
      ]
     },
     "execution_count": 185,
     "metadata": {},
     "output_type": "execute_result"
    }
   ],
   "source": [
    "dummy.score(X_train_ss, y_train)"
   ]
  },
  {
   "cell_type": "code",
   "execution_count": 186,
   "metadata": {},
   "outputs": [
    {
     "data": {
      "text/plain": [
       "-0.005950662039365007"
      ]
     },
     "execution_count": 186,
     "metadata": {},
     "output_type": "execute_result"
    }
   ],
   "source": [
    "dummy.score(X_test_ss, y_test)"
   ]
  },
  {
   "cell_type": "code",
   "execution_count": 189,
   "metadata": {},
   "outputs": [
    {
     "data": {
      "text/plain": [
       "(0.8125059656220384, 0.7967089966348305)"
      ]
     },
     "execution_count": 189,
     "metadata": {},
     "output_type": "execute_result"
    }
   ],
   "source": [
    "grid.score(X_train_ss, y_train), grid.score(X_test_ss, y_test)"
   ]
  },
  {
   "cell_type": "code",
   "execution_count": 190,
   "metadata": {},
   "outputs": [],
   "source": [
    "preds = grid.predict(X_test_ss)"
   ]
  },
  {
   "cell_type": "code",
   "execution_count": 191,
   "metadata": {},
   "outputs": [
    {
     "data": {
      "text/plain": [
       "0.7560507959617965"
      ]
     },
     "execution_count": 191,
     "metadata": {},
     "output_type": "execute_result"
    }
   ],
   "source": [
    "adj_r2(y_test_19, preds, 20) # using the number of PCs"
   ]
  },
  {
   "cell_type": "code",
   "execution_count": null,
   "metadata": {},
   "outputs": [],
   "source": []
  },
  {
   "cell_type": "code",
   "execution_count": null,
   "metadata": {},
   "outputs": [],
   "source": []
  },
  {
   "cell_type": "code",
   "execution_count": null,
   "metadata": {},
   "outputs": [],
   "source": []
  },
  {
   "cell_type": "code",
   "execution_count": null,
   "metadata": {},
   "outputs": [],
   "source": []
  },
  {
   "cell_type": "code",
   "execution_count": null,
   "metadata": {},
   "outputs": [],
   "source": []
  },
  {
   "cell_type": "code",
   "execution_count": 125,
   "metadata": {},
   "outputs": [
    {
     "data": {
      "image/png": "[encoded data removed]",
      "text/plain": [
       "<Figure size 576x396 with 2 Axes>"
      ]
     },
     "metadata": {},
     "output_type": "display_data"
    }
   ],
   "source": [
    "pca_vis = pca_decomposition(\n",
    "    X_19, y_19, scale=True\n",
    ")"
   ]
  },
  {
   "cell_type": "code",
   "execution_count": 124,
   "metadata": {},
   "outputs": [
    {
     "data": {
      "text/plain": [
       "array([[ 0.01308639, -0.03555699, -0.03719361, ..., -0.00587609,\n",
       "         0.00072596, -0.00581308],\n",
       "       [ 0.02320322,  0.0070709 , -0.01158244, ...,  0.03665287,\n",
       "         0.01718971,  0.02811359]])"
      ]
     },
     "execution_count": 124,
     "metadata": {},
     "output_type": "execute_result"
    }
   ],
   "source": [
    "pca_vis.pca_components_"
   ]
  },
  {
   "cell_type": "code",
   "execution_count": null,
   "metadata": {},
   "outputs": [],
   "source": []
  }
 ],
 "metadata": {
  "kernelspec": {
   "display_name": "Python 3",
   "language": "python",
   "name": "python3"
  },
  "language_info": {
   "codemirror_mode": {
    "name": "ipython",
    "version": 3
   },
   "file_extension": ".py",
   "mimetype": "text/x-python",
   "name": "python",
   "nbconvert_exporter": "python",
   "pygments_lexer": "ipython3",
   "version": "3.7.7"
  }
 },
 "nbformat": 4,
 "nbformat_minor": 4
}
