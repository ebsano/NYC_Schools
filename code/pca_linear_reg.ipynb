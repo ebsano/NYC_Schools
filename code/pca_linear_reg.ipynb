{
 "cells": [
  {
   "cell_type": "code",
   "execution_count": 1,
   "metadata": {},
   "outputs": [],
   "source": [
    "import pandas as pd\n",
    "import numpy as np\n",
    "import matplotlib.pyplot as plt\n",
    "import seaborn as sns\n",
    "\n",
    "# Import from sklearn.\n",
    "from sklearn.model_selection import train_test_split\n",
    "from sklearn.dummy import DummyRegressor\n",
    "from sklearn.linear_model import LinearRegression\n",
    "from sklearn.preprocessing import StandardScaler\n",
    "from sklearn.decomposition import PCA\n",
    "\n",
    "from sklearn.pipeline import make_pipeline\n",
    "from sklearn.model_selection import GridSearchCV\n",
    "\n",
    "from yellowbrick.features import pca_decomposition"
   ]
  },
  {
   "cell_type": "code",
   "execution_count": 2,
   "metadata": {},
   "outputs": [],
   "source": [
    "df_15 = pd.read_csv('../data/survey_scores_clean_15.csv')\n",
    "df_16 = pd.read_csv('../data/survey_scores_clean_16.csv')\n",
    "df_17 = pd.read_csv('../data/survey_scores_clean_17.csv')\n",
    "df_18 = pd.read_csv('../data/survey_scores_clean_18.csv')\n",
    "df_19 = pd.read_csv('../data/survey_scores_clean_19.csv')"
   ]
  },
  {
   "cell_type": "code",
   "execution_count": 3,
   "metadata": {},
   "outputs": [
    {
     "data": {
      "text/html": [
       "<div>\n",
       "<style scoped>\n",
       "    .dataframe tbody tr th:only-of-type {\n",
       "        vertical-align: middle;\n",
       "    }\n",
       "\n",
       "    .dataframe tbody tr th {\n",
       "        vertical-align: top;\n",
       "    }\n",
       "\n",
       "    .dataframe thead th {\n",
       "        text-align: right;\n",
       "    }\n",
       "</style>\n",
       "<table border=\"1\" class=\"dataframe\">\n",
       "  <thead>\n",
       "    <tr style=\"text-align: right;\">\n",
       "      <th></th>\n",
       "      <th>dbn</th>\n",
       "      <th>school_name</th>\n",
       "      <th>student_response_rate</th>\n",
       "      <th>1a_1_s</th>\n",
       "      <th>1a_2_s</th>\n",
       "      <th>1a_3_s</th>\n",
       "      <th>1a_4_s</th>\n",
       "      <th>1a_5_s</th>\n",
       "      <th>1b_1_s</th>\n",
       "      <th>1b_2_s</th>\n",
       "      <th>...</th>\n",
       "      <th>10d_4_p</th>\n",
       "      <th>10e_1_p</th>\n",
       "      <th>10e_2_p</th>\n",
       "      <th>10e_3_p</th>\n",
       "      <th>10e_4_p</th>\n",
       "      <th>number_tested_ela</th>\n",
       "      <th>mean_score_ela</th>\n",
       "      <th>number_tested_math</th>\n",
       "      <th>mean_score_math</th>\n",
       "      <th>combined_mean_score</th>\n",
       "    </tr>\n",
       "  </thead>\n",
       "  <tbody>\n",
       "    <tr>\n",
       "      <th>0</th>\n",
       "      <td>01M034</td>\n",
       "      <td>P.S. 034 FRANKLIN D. ROOSEVELT</td>\n",
       "      <td>95.0</td>\n",
       "      <td>10.0</td>\n",
       "      <td>20.0</td>\n",
       "      <td>39.0</td>\n",
       "      <td>16.0</td>\n",
       "      <td>15.0</td>\n",
       "      <td>5.0</td>\n",
       "      <td>23.0</td>\n",
       "      <td>...</td>\n",
       "      <td>60.0</td>\n",
       "      <td>0.0</td>\n",
       "      <td>0.0</td>\n",
       "      <td>40.0</td>\n",
       "      <td>60.0</td>\n",
       "      <td>198.0</td>\n",
       "      <td>589.348511</td>\n",
       "      <td>194.0</td>\n",
       "      <td>586.479370</td>\n",
       "      <td>587.928579</td>\n",
       "    </tr>\n",
       "    <tr>\n",
       "      <th>1</th>\n",
       "      <td>01M140</td>\n",
       "      <td>P.S. 140 NATHAN STRAUS</td>\n",
       "      <td>87.0</td>\n",
       "      <td>8.0</td>\n",
       "      <td>28.0</td>\n",
       "      <td>38.0</td>\n",
       "      <td>11.0</td>\n",
       "      <td>14.0</td>\n",
       "      <td>5.0</td>\n",
       "      <td>22.0</td>\n",
       "      <td>...</td>\n",
       "      <td>40.0</td>\n",
       "      <td>0.0</td>\n",
       "      <td>20.0</td>\n",
       "      <td>60.0</td>\n",
       "      <td>20.0</td>\n",
       "      <td>216.0</td>\n",
       "      <td>590.851868</td>\n",
       "      <td>219.0</td>\n",
       "      <td>588.333313</td>\n",
       "      <td>589.583906</td>\n",
       "    </tr>\n",
       "    <tr>\n",
       "      <th>2</th>\n",
       "      <td>01M184</td>\n",
       "      <td>P.S. 184M SHUANG WEN</td>\n",
       "      <td>100.0</td>\n",
       "      <td>9.0</td>\n",
       "      <td>22.0</td>\n",
       "      <td>46.0</td>\n",
       "      <td>14.0</td>\n",
       "      <td>10.0</td>\n",
       "      <td>9.0</td>\n",
       "      <td>23.0</td>\n",
       "      <td>...</td>\n",
       "      <td>11.0</td>\n",
       "      <td>6.0</td>\n",
       "      <td>13.0</td>\n",
       "      <td>63.0</td>\n",
       "      <td>19.0</td>\n",
       "      <td>413.0</td>\n",
       "      <td>612.617432</td>\n",
       "      <td>422.0</td>\n",
       "      <td>619.056885</td>\n",
       "      <td>615.871862</td>\n",
       "    </tr>\n",
       "    <tr>\n",
       "      <th>3</th>\n",
       "      <td>01M188</td>\n",
       "      <td>P.S. 188 THE ISLAND SCHOOL</td>\n",
       "      <td>66.0</td>\n",
       "      <td>0.0</td>\n",
       "      <td>0.0</td>\n",
       "      <td>7.0</td>\n",
       "      <td>93.0</td>\n",
       "      <td>0.0</td>\n",
       "      <td>0.0</td>\n",
       "      <td>0.0</td>\n",
       "      <td>...</td>\n",
       "      <td>0.0</td>\n",
       "      <td>0.0</td>\n",
       "      <td>0.0</td>\n",
       "      <td>0.0</td>\n",
       "      <td>0.0</td>\n",
       "      <td>269.0</td>\n",
       "      <td>593.821533</td>\n",
       "      <td>219.0</td>\n",
       "      <td>597.223755</td>\n",
       "      <td>595.348350</td>\n",
       "    </tr>\n",
       "    <tr>\n",
       "      <th>4</th>\n",
       "      <td>01M332</td>\n",
       "      <td>UNIVERSITY NEIGHBORHOOD MIDDLE SCHOOL</td>\n",
       "      <td>92.0</td>\n",
       "      <td>3.0</td>\n",
       "      <td>11.0</td>\n",
       "      <td>59.0</td>\n",
       "      <td>19.0</td>\n",
       "      <td>9.0</td>\n",
       "      <td>3.0</td>\n",
       "      <td>10.0</td>\n",
       "      <td>...</td>\n",
       "      <td>0.0</td>\n",
       "      <td>0.0</td>\n",
       "      <td>0.0</td>\n",
       "      <td>0.0</td>\n",
       "      <td>0.0</td>\n",
       "      <td>175.0</td>\n",
       "      <td>592.234314</td>\n",
       "      <td>173.0</td>\n",
       "      <td>586.115601</td>\n",
       "      <td>589.192540</td>\n",
       "    </tr>\n",
       "  </tbody>\n",
       "</table>\n",
       "<p>5 rows × 1047 columns</p>\n",
       "</div>"
      ],
      "text/plain": [
       "      dbn                            school_name  student_response_rate  \\\n",
       "0  01M034         P.S. 034 FRANKLIN D. ROOSEVELT                   95.0   \n",
       "1  01M140                 P.S. 140 NATHAN STRAUS                   87.0   \n",
       "2  01M184                   P.S. 184M SHUANG WEN                  100.0   \n",
       "3  01M188             P.S. 188 THE ISLAND SCHOOL                   66.0   \n",
       "4  01M332  UNIVERSITY NEIGHBORHOOD MIDDLE SCHOOL                   92.0   \n",
       "\n",
       "   1a_1_s  1a_2_s  1a_3_s  1a_4_s  1a_5_s  1b_1_s  1b_2_s  ...  10d_4_p  \\\n",
       "0    10.0    20.0    39.0    16.0    15.0     5.0    23.0  ...     60.0   \n",
       "1     8.0    28.0    38.0    11.0    14.0     5.0    22.0  ...     40.0   \n",
       "2     9.0    22.0    46.0    14.0    10.0     9.0    23.0  ...     11.0   \n",
       "3     0.0     0.0     7.0    93.0     0.0     0.0     0.0  ...      0.0   \n",
       "4     3.0    11.0    59.0    19.0     9.0     3.0    10.0  ...      0.0   \n",
       "\n",
       "   10e_1_p  10e_2_p  10e_3_p  10e_4_p  number_tested_ela  mean_score_ela  \\\n",
       "0      0.0      0.0     40.0     60.0              198.0      589.348511   \n",
       "1      0.0     20.0     60.0     20.0              216.0      590.851868   \n",
       "2      6.0     13.0     63.0     19.0              413.0      612.617432   \n",
       "3      0.0      0.0      0.0      0.0              269.0      593.821533   \n",
       "4      0.0      0.0      0.0      0.0              175.0      592.234314   \n",
       "\n",
       "   number_tested_math  mean_score_math  combined_mean_score  \n",
       "0               194.0       586.479370           587.928579  \n",
       "1               219.0       588.333313           589.583906  \n",
       "2               422.0       619.056885           615.871862  \n",
       "3               219.0       597.223755           595.348350  \n",
       "4               173.0       586.115601           589.192540  \n",
       "\n",
       "[5 rows x 1047 columns]"
      ]
     },
     "execution_count": 3,
     "metadata": {},
     "output_type": "execute_result"
    }
   ],
   "source": [
    "df_19.head()"
   ]
  },
  {
   "cell_type": "code",
   "execution_count": 4,
   "metadata": {},
   "outputs": [
    {
     "data": {
      "text/plain": [
       "(482, 1047)"
      ]
     },
     "execution_count": 4,
     "metadata": {},
     "output_type": "execute_result"
    }
   ],
   "source": [
    "df_19.shape"
   ]
  },
  {
   "cell_type": "markdown",
   "metadata": {},
   "source": [
    "### Dimentional reduction using PCA\n",
    "The goal is to see if the survey has predictive power, so all numberical data from the surveys are going to be used to predict the combined score (from ELA and Math)."
   ]
  },
  {
   "cell_type": "code",
   "execution_count": 5,
   "metadata": {},
   "outputs": [],
   "source": [
    "# start with year 2019 instiating X and y\n",
    "X_19 = df_19.iloc[:, 2:]\n",
    "X_19 = X_19.iloc[:, :-6]\n",
    "\n",
    "y_19 = df_19['combined_mean_score']"
   ]
  },
  {
   "cell_type": "code",
   "execution_count": 6,
   "metadata": {},
   "outputs": [
    {
     "data": {
      "text/html": [
       "<div>\n",
       "<style scoped>\n",
       "    .dataframe tbody tr th:only-of-type {\n",
       "        vertical-align: middle;\n",
       "    }\n",
       "\n",
       "    .dataframe tbody tr th {\n",
       "        vertical-align: top;\n",
       "    }\n",
       "\n",
       "    .dataframe thead th {\n",
       "        text-align: right;\n",
       "    }\n",
       "</style>\n",
       "<table border=\"1\" class=\"dataframe\">\n",
       "  <thead>\n",
       "    <tr style=\"text-align: right;\">\n",
       "      <th></th>\n",
       "      <th>student_response_rate</th>\n",
       "      <th>1a_1_s</th>\n",
       "      <th>1a_2_s</th>\n",
       "      <th>1a_3_s</th>\n",
       "      <th>1a_4_s</th>\n",
       "      <th>1a_5_s</th>\n",
       "      <th>1b_1_s</th>\n",
       "      <th>1b_2_s</th>\n",
       "      <th>1b_3_s</th>\n",
       "      <th>1b_4_s</th>\n",
       "      <th>...</th>\n",
       "      <th>10c_2_p</th>\n",
       "      <th>10c_3_p</th>\n",
       "      <th>10c_4_p</th>\n",
       "      <th>10d_1_p</th>\n",
       "      <th>10d_2_p</th>\n",
       "      <th>10d_3_p</th>\n",
       "      <th>10d_4_p</th>\n",
       "      <th>10e_1_p</th>\n",
       "      <th>10e_2_p</th>\n",
       "      <th>10e_3_p</th>\n",
       "    </tr>\n",
       "  </thead>\n",
       "  <tbody>\n",
       "    <tr>\n",
       "      <th>0</th>\n",
       "      <td>95.0</td>\n",
       "      <td>10.0</td>\n",
       "      <td>20.0</td>\n",
       "      <td>39.0</td>\n",
       "      <td>16.0</td>\n",
       "      <td>15.0</td>\n",
       "      <td>5.0</td>\n",
       "      <td>23.0</td>\n",
       "      <td>38.0</td>\n",
       "      <td>17.0</td>\n",
       "      <td>...</td>\n",
       "      <td>0.0</td>\n",
       "      <td>40.0</td>\n",
       "      <td>60.0</td>\n",
       "      <td>0.0</td>\n",
       "      <td>0.0</td>\n",
       "      <td>40.0</td>\n",
       "      <td>60.0</td>\n",
       "      <td>0.0</td>\n",
       "      <td>0.0</td>\n",
       "      <td>40.0</td>\n",
       "    </tr>\n",
       "    <tr>\n",
       "      <th>1</th>\n",
       "      <td>87.0</td>\n",
       "      <td>8.0</td>\n",
       "      <td>28.0</td>\n",
       "      <td>38.0</td>\n",
       "      <td>11.0</td>\n",
       "      <td>14.0</td>\n",
       "      <td>5.0</td>\n",
       "      <td>22.0</td>\n",
       "      <td>45.0</td>\n",
       "      <td>17.0</td>\n",
       "      <td>...</td>\n",
       "      <td>0.0</td>\n",
       "      <td>60.0</td>\n",
       "      <td>40.0</td>\n",
       "      <td>0.0</td>\n",
       "      <td>0.0</td>\n",
       "      <td>60.0</td>\n",
       "      <td>40.0</td>\n",
       "      <td>0.0</td>\n",
       "      <td>20.0</td>\n",
       "      <td>60.0</td>\n",
       "    </tr>\n",
       "  </tbody>\n",
       "</table>\n",
       "<p>2 rows × 1039 columns</p>\n",
       "</div>"
      ],
      "text/plain": [
       "   student_response_rate  1a_1_s  1a_2_s  1a_3_s  1a_4_s  1a_5_s  1b_1_s  \\\n",
       "0                   95.0    10.0    20.0    39.0    16.0    15.0     5.0   \n",
       "1                   87.0     8.0    28.0    38.0    11.0    14.0     5.0   \n",
       "\n",
       "   1b_2_s  1b_3_s  1b_4_s  ...  10c_2_p  10c_3_p  10c_4_p  10d_1_p  10d_2_p  \\\n",
       "0    23.0    38.0    17.0  ...      0.0     40.0     60.0      0.0      0.0   \n",
       "1    22.0    45.0    17.0  ...      0.0     60.0     40.0      0.0      0.0   \n",
       "\n",
       "   10d_3_p  10d_4_p  10e_1_p  10e_2_p  10e_3_p  \n",
       "0     40.0     60.0      0.0      0.0     40.0  \n",
       "1     60.0     40.0      0.0     20.0     60.0  \n",
       "\n",
       "[2 rows x 1039 columns]"
      ]
     },
     "execution_count": 6,
     "metadata": {},
     "output_type": "execute_result"
    }
   ],
   "source": [
    "X_19.head(2)"
   ]
  },
  {
   "cell_type": "code",
   "execution_count": 7,
   "metadata": {},
   "outputs": [
    {
     "data": {
      "text/plain": [
       "0    587.928579\n",
       "1    589.583906\n",
       "Name: combined_mean_score, dtype: float64"
      ]
     },
     "execution_count": 7,
     "metadata": {},
     "output_type": "execute_result"
    }
   ],
   "source": [
    "y_19[:2]"
   ]
  },
  {
   "cell_type": "code",
   "execution_count": 9,
   "metadata": {},
   "outputs": [],
   "source": [
    "# train test split\n",
    "X_train_19, X_test_19, y_train_19, y_test_19 = train_test_split(X_19, y_19, random_state=77)\n",
    "\n",
    "# Instantiate our StandardScaler\n",
    "ss = StandardScaler()\n",
    "\n",
    "# Standardize X_train\n",
    "X_train_ss_19 = ss.fit_transform(X_train_19)\n",
    "\n",
    "# Standardize X_test\n",
    "X_test_ss_19 = ss.transform(X_test_19)"
   ]
  },
  {
   "cell_type": "code",
   "execution_count": 10,
   "metadata": {},
   "outputs": [],
   "source": [
    "# instatiate pca\n",
    "pca_19 = PCA()"
   ]
  },
  {
   "cell_type": "code",
   "execution_count": 11,
   "metadata": {},
   "outputs": [
    {
     "data": {
      "text/plain": [
       "PCA()"
      ]
     },
     "execution_count": 11,
     "metadata": {},
     "output_type": "execute_result"
    }
   ],
   "source": [
    "# fit\n",
    "pca_19.fit(X_train_ss_19)"
   ]
  },
  {
   "cell_type": "code",
   "execution_count": 12,
   "metadata": {},
   "outputs": [],
   "source": [
    "# transform to get pcs\n",
    "Z_train_19 = pca_19.transform(X_train_ss_19)"
   ]
  },
  {
   "cell_type": "code",
   "execution_count": 13,
   "metadata": {},
   "outputs": [],
   "source": [
    "Z_test_19 = pca_19.transform(X_test_ss_19)"
   ]
  },
  {
   "cell_type": "code",
   "execution_count": 14,
   "metadata": {},
   "outputs": [
    {
     "name": "stdout",
     "output_type": "stream",
     "text": [
      "Explained variance (first 50 components): [0.21195821 0.06892287 0.05285097 0.04967076 0.03885098 0.03125216\n",
      " 0.02339517 0.02246168 0.01953249 0.01408283 0.01199745 0.01130733\n",
      " 0.01112902 0.00993647 0.00971515 0.00907685 0.00863897 0.00811852\n",
      " 0.00789644 0.00745243 0.00711146 0.0068979  0.0067527  0.00650665\n",
      " 0.00590367 0.00565259 0.00540555 0.00519708 0.00501309 0.00491013\n",
      " 0.00481105 0.00462646 0.00449829 0.00442315 0.00429314 0.00427516\n",
      " 0.00416266 0.00402021 0.00394866 0.00388792 0.00385021 0.00373372\n",
      " 0.00367918 0.00365457 0.00352394 0.00349929 0.00339173 0.00335555\n",
      " 0.00325615 0.00313923]\n",
      "\n",
      "Cumulative explained variance (first 50 components): [0.21195821 0.28088108 0.33373205 0.38340281 0.42225379 0.45350594\n",
      " 0.47690111 0.49936279 0.51889527 0.5329781  0.54497555 0.55628287\n",
      " 0.5674119  0.57734836 0.58706351 0.59614036 0.60477934 0.61289786\n",
      " 0.62079429 0.62824672 0.63535818 0.64225608 0.64900878 0.65551543\n",
      " 0.6614191  0.66707169 0.67247724 0.67767433 0.68268741 0.68759755\n",
      " 0.6924086  0.69703506 0.70153335 0.7059565  0.71024963 0.71452479\n",
      " 0.71868745 0.72270766 0.72665632 0.73054423 0.73439444 0.73812816\n",
      " 0.74180734 0.74546191 0.74898585 0.75248514 0.75587687 0.75923241\n",
      " 0.76248856 0.76562779]\n"
     ]
    }
   ],
   "source": [
    "# explained variance \n",
    "var_exp = pca_19.explained_variance_ratio_\n",
    "print(f'Explained variance (first 50 components): {var_exp[:50]}\\n')\n",
    "\n",
    "# cumulative explained variance\n",
    "cum_var_exp = np.cumsum(var_exp)\n",
    "print(f'Cumulative explained variance (first 50 components): {cum_var_exp[:50]}')"
   ]
  },
  {
   "cell_type": "code",
   "execution_count": 15,
   "metadata": {},
   "outputs": [
    {
     "data": {
      "image/png": "[encoded data removed]",
      "text/plain": [
       "<Figure size 576x396 with 1 Axes>"
      ]
     },
     "metadata": {},
     "output_type": "display_data"
    }
   ],
   "source": [
    "# from pca lecture notes\n",
    "# Plot the variance explained (and cumulative variance explained).\n",
    "\n",
    "# Plot the explained variance.\n",
    "plt.plot(range(len(var_exp)), var_exp, lw=3, label = 'Variance Explained')\n",
    "\n",
    "# Plot the cumulative explained variance.\n",
    "plt.plot(range(len(var_exp)), cum_var_exp, lw=3, color = 'orange', label = 'Cumulative Variance Explained')\n",
    "\n",
    "# Add horizontal lines at y=0 and y=1.\n",
    "plt.axhline(y=0, linewidth=1, color='grey', ls='dashed')\n",
    "plt.axhline(y=1, linewidth=1, color='grey', ls='dashed')\n",
    "\n",
    "# Set the limits of the axes.\n",
    "plt.xlim([-0.5,21])\n",
    "plt.ylim([-0.01,1.01])\n",
    "\n",
    "# Label the axes.\n",
    "plt.ylabel('Variance Explained', fontsize=20)\n",
    "plt.xlabel('Principal Component', fontsize=20)\n",
    "\n",
    "# Make the tick labels bigger\n",
    "plt.xticks(range(0, 21, 2), range(1, 22, 2), fontsize=12)\n",
    "plt.yticks(fontsize=12)\n",
    "    \n",
    "# Add title and legend.\n",
    "plt.title('Component vs. Variance Explained', fontsize=24)\n",
    "plt.legend(fontsize=11);"
   ]
  },
  {
   "cell_type": "code",
   "execution_count": 17,
   "metadata": {},
   "outputs": [],
   "source": [
    "eigenvals = pca_19.explained_variance_"
   ]
  },
  {
   "cell_type": "code",
   "execution_count": 54,
   "metadata": {},
   "outputs": [
    {
     "data": {
      "image/png": "[encoded data removed]",
      "text/plain": [
       "<Figure size 576x396 with 1 Axes>"
      ]
     },
     "metadata": {},
     "output_type": "display_data"
    }
   ],
   "source": [
    "# scree plot\n",
    "plt.plot(eigenvals)\n",
    "\n",
    "plt.xlabel('Principal Component')\n",
    "plt.ylabel('Eigenvalues')\n",
    "plt.title('Scree Plot')\n",
    "plt.axhline(y=1, linewidth=1, color='grey', ls='dashed')\n",
    "plt.xlim(0, 30);"
   ]
  },
  {
   "cell_type": "markdown",
   "metadata": {},
   "source": [
    "### Model with linear regression"
   ]
  },
  {
   "cell_type": "code",
   "execution_count": 20,
   "metadata": {},
   "outputs": [
    {
     "data": {
      "text/plain": [
       "GridSearchCV(cv=10,\n",
       "             estimator=Pipeline(steps=[('pca', PCA()),\n",
       "                                       ('linearregression',\n",
       "                                        LinearRegression())]),\n",
       "             param_grid={'pca__n_components': [2, 5, 10, 20, 0.7]})"
      ]
     },
     "execution_count": 20,
     "metadata": {},
     "output_type": "execute_result"
    }
   ],
   "source": [
    "# setup pipeline with PCA and linear regression\n",
    "pipe_19 = make_pipeline(PCA(), LinearRegression())\n",
    "\n",
    "params = {'pca__n_components': [2, 5, 10, 20, 0.7]} \n",
    "\n",
    "grid = GridSearchCV(pipe_19, param_grid=params, cv=10)\n",
    "\n",
    "grid.fit(X_train_ss_19, y_train_19)"
   ]
  },
  {
   "cell_type": "code",
   "execution_count": 21,
   "metadata": {},
   "outputs": [
    {
     "data": {
      "text/plain": [
       "{'pca__n_components': 0.7}"
      ]
     },
     "execution_count": 21,
     "metadata": {},
     "output_type": "execute_result"
    }
   ],
   "source": [
    "grid.best_params_"
   ]
  },
  {
   "cell_type": "code",
   "execution_count": 22,
   "metadata": {},
   "outputs": [],
   "source": [
    "# baseline\n",
    "baseline = DummyRegressor()"
   ]
  },
  {
   "cell_type": "code",
   "execution_count": 23,
   "metadata": {},
   "outputs": [
    {
     "data": {
      "text/plain": [
       "DummyRegressor()"
      ]
     },
     "execution_count": 23,
     "metadata": {},
     "output_type": "execute_result"
    }
   ],
   "source": [
    "baseline.fit(X_train_ss_19, y_train_19)"
   ]
  },
  {
   "cell_type": "code",
   "execution_count": 24,
   "metadata": {},
   "outputs": [
    {
     "data": {
      "text/plain": [
       "0.0"
      ]
     },
     "execution_count": 24,
     "metadata": {},
     "output_type": "execute_result"
    }
   ],
   "source": [
    "baseline.score(X_train_ss_19, y_train_19)"
   ]
  },
  {
   "cell_type": "code",
   "execution_count": 25,
   "metadata": {},
   "outputs": [
    {
     "data": {
      "text/plain": [
       "-0.005950662039365229"
      ]
     },
     "execution_count": 25,
     "metadata": {},
     "output_type": "execute_result"
    }
   ],
   "source": [
    "baseline.score(X_test_ss_19, y_test_19)"
   ]
  },
  {
   "cell_type": "markdown",
   "metadata": {},
   "source": [
    "The null model does not have a predictive power."
   ]
  },
  {
   "cell_type": "code",
   "execution_count": 26,
   "metadata": {},
   "outputs": [
    {
     "data": {
      "text/plain": [
       "33"
      ]
     },
     "execution_count": 26,
     "metadata": {},
     "output_type": "execute_result"
    }
   ],
   "source": [
    "# number of principal components\n",
    "len(grid.best_estimator_.named_steps['pca'].explained_variance_)"
   ]
  },
  {
   "cell_type": "code",
   "execution_count": 27,
   "metadata": {},
   "outputs": [
    {
     "data": {
      "text/plain": [
       "0.8079527337567587"
      ]
     },
     "execution_count": 27,
     "metadata": {},
     "output_type": "execute_result"
    }
   ],
   "source": [
    "r2_train = grid.score(X_train_ss_19, y_train_19)\n",
    "r2_train"
   ]
  },
  {
   "cell_type": "code",
   "execution_count": 28,
   "metadata": {},
   "outputs": [
    {
     "data": {
      "text/plain": [
       "0.8022668406042347"
      ]
     },
     "execution_count": 28,
     "metadata": {},
     "output_type": "execute_result"
    }
   ],
   "source": [
    "r2_test = grid.score(X_test_ss_19, y_test_19)\n",
    "r2_test"
   ]
  },
  {
   "cell_type": "markdown",
   "metadata": {},
   "source": [
    "This is pretty good, but as Jeff mentioned, this may artifactual based on the number of features. Adjusted R2 may be a better metric."
   ]
  },
  {
   "cell_type": "code",
   "execution_count": 29,
   "metadata": {},
   "outputs": [],
   "source": [
    "preds = grid.predict(X_test_ss_19)"
   ]
  },
  {
   "cell_type": "code",
   "execution_count": 30,
   "metadata": {},
   "outputs": [],
   "source": [
    "from sklearn.metrics import r2_score"
   ]
  },
  {
   "cell_type": "code",
   "execution_count": 32,
   "metadata": {},
   "outputs": [],
   "source": [
    "def adj_r2(y_true, y_preds, featuers):\n",
    "    '''Calculates the adjusted R2 score from y_true, y_preds, and the  number of features.'''\n",
    "    n = len(y_true)\n",
    "    true_mean = np.mean(y_true)\n",
    "    r2 = r2_score(y_true, y_preds)\n",
    "    adj_r2 = 1 - (1 - r2) * (n - 1) / (n - features - 1)\n",
    "    return adj_r2"
   ]
  },
  {
   "cell_type": "code",
   "execution_count": 33,
   "metadata": {},
   "outputs": [
    {
     "data": {
      "text/plain": [
       "0.7272646077299789"
      ]
     },
     "execution_count": 33,
     "metadata": {},
     "output_type": "execute_result"
    }
   ],
   "source": [
    "adj_r2(y_test_19, preds, 33) # using the number of PCs"
   ]
  },
  {
   "cell_type": "markdown",
   "metadata": {},
   "source": [
    "#### PCA & Linear Regression with Student Survey Data"
   ]
  },
  {
   "cell_type": "code",
   "execution_count": 34,
   "metadata": {},
   "outputs": [],
   "source": [
    "student_19 = pd.read_csv('../data/2019_student_ready.csv')"
   ]
  },
  {
   "cell_type": "code",
   "execution_count": 35,
   "metadata": {},
   "outputs": [],
   "source": [
    "# instatiate X, y for students only\n",
    "X_st = student_19.iloc[:, 2:]\n",
    "X_st = X_st.drop(columns='combined_mean_score')\n",
    "y_st = student_19['combined_mean_score']"
   ]
  },
  {
   "cell_type": "code",
   "execution_count": 36,
   "metadata": {},
   "outputs": [],
   "source": [
    "X_train, X_test, y_train, y_test = train_test_split(X_st, y_st, random_state=77)"
   ]
  },
  {
   "cell_type": "code",
   "execution_count": 37,
   "metadata": {},
   "outputs": [],
   "source": [
    "ss = StandardScaler()"
   ]
  },
  {
   "cell_type": "code",
   "execution_count": 38,
   "metadata": {},
   "outputs": [],
   "source": [
    "X_train_ss = ss.fit_transform(X_train, y_train)"
   ]
  },
  {
   "cell_type": "code",
   "execution_count": 39,
   "metadata": {},
   "outputs": [],
   "source": [
    "X_test_ss = ss.transform(X_test)"
   ]
  },
  {
   "cell_type": "code",
   "execution_count": 40,
   "metadata": {},
   "outputs": [],
   "source": [
    "pca = PCA()"
   ]
  },
  {
   "cell_type": "code",
   "execution_count": 41,
   "metadata": {},
   "outputs": [
    {
     "data": {
      "text/plain": [
       "PCA()"
      ]
     },
     "execution_count": 41,
     "metadata": {},
     "output_type": "execute_result"
    }
   ],
   "source": [
    "pca.fit(X_train_ss)"
   ]
  },
  {
   "cell_type": "code",
   "execution_count": 42,
   "metadata": {},
   "outputs": [],
   "source": [
    "Z_train = pca.transform(X_train)"
   ]
  },
  {
   "cell_type": "code",
   "execution_count": 43,
   "metadata": {},
   "outputs": [],
   "source": [
    "Z_test = pca.transform(X_test)"
   ]
  },
  {
   "cell_type": "code",
   "execution_count": 44,
   "metadata": {},
   "outputs": [
    {
     "data": {
      "text/plain": [
       "array([0.21195821, 0.06892287, 0.05285097, 0.04967076, 0.03885098,\n",
       "       0.03125216, 0.02339517, 0.02246168, 0.01953249, 0.01408283,\n",
       "       0.01199745, 0.01130733, 0.01112902, 0.00993647, 0.00971515,\n",
       "       0.00907685, 0.00863897, 0.00811852, 0.00789644, 0.00745243,\n",
       "       0.00711146, 0.0068979 , 0.0067527 , 0.00650665, 0.00590367,\n",
       "       0.00565259, 0.00540555, 0.00519708, 0.00501309, 0.00491013,\n",
       "       0.00481105, 0.00462646, 0.00449829, 0.00442315, 0.00429314,\n",
       "       0.00427516, 0.00416266, 0.00402021, 0.00394866, 0.00388792,\n",
       "       0.00385021, 0.00373372, 0.00367918, 0.00365457, 0.00352394,\n",
       "       0.00349929, 0.00339173, 0.00335555, 0.00325615, 0.00313923])"
      ]
     },
     "execution_count": 44,
     "metadata": {},
     "output_type": "execute_result"
    }
   ],
   "source": [
    "# explained variance \n",
    "var_exp = pca_19.explained_variance_ratio_\n",
    "\n",
    "var_exp[:50]"
   ]
  },
  {
   "cell_type": "code",
   "execution_count": 45,
   "metadata": {},
   "outputs": [
    {
     "data": {
      "text/plain": [
       "array([0.21195821, 0.28088108, 0.33373205, 0.38340281, 0.42225379,\n",
       "       0.45350594, 0.47690111, 0.49936279, 0.51889527, 0.5329781 ,\n",
       "       0.54497555, 0.55628287, 0.5674119 , 0.57734836, 0.58706351,\n",
       "       0.59614036, 0.60477934, 0.61289786, 0.62079429, 0.62824672,\n",
       "       0.63535818, 0.64225608, 0.64900878, 0.65551543, 0.6614191 ,\n",
       "       0.66707169, 0.67247724, 0.67767433, 0.68268741, 0.68759755,\n",
       "       0.6924086 , 0.69703506, 0.70153335, 0.7059565 , 0.71024963,\n",
       "       0.71452479, 0.71868745, 0.72270766, 0.72665632, 0.73054423,\n",
       "       0.73439444, 0.73812816, 0.74180734, 0.74546191, 0.74898585,\n",
       "       0.75248514, 0.75587687, 0.75923241, 0.76248856, 0.76562779])"
      ]
     },
     "execution_count": 45,
     "metadata": {},
     "output_type": "execute_result"
    }
   ],
   "source": [
    "cum_var_exp = np.cumsum(var_exp)\n",
    "\n",
    "cum_var_exp[:50]"
   ]
  },
  {
   "cell_type": "code",
   "execution_count": 46,
   "metadata": {},
   "outputs": [
    {
     "data": {
      "text/plain": [
       "GridSearchCV(cv=10,\n",
       "             estimator=Pipeline(steps=[('pca', PCA()),\n",
       "                                       ('linearregression',\n",
       "                                        LinearRegression())]),\n",
       "             param_grid={'pca__n_components': [5, 10, 20, 0.7]})"
      ]
     },
     "execution_count": 46,
     "metadata": {},
     "output_type": "execute_result"
    }
   ],
   "source": [
    "pipe_st = make_pipeline(PCA(), LinearRegression())\n",
    "\n",
    "params = {'pca__n_components': [5, 10, 20, 0.7]} \n",
    "\n",
    "grid = GridSearchCV(pipe_st, param_grid=params, cv=10)\n",
    "\n",
    "grid.fit(X_train_ss, y_train)"
   ]
  },
  {
   "cell_type": "code",
   "execution_count": 47,
   "metadata": {},
   "outputs": [
    {
     "data": {
      "text/plain": [
       "{'pca__n_components': 20}"
      ]
     },
     "execution_count": 47,
     "metadata": {},
     "output_type": "execute_result"
    }
   ],
   "source": [
    "grid.best_params_"
   ]
  },
  {
   "cell_type": "code",
   "execution_count": 48,
   "metadata": {},
   "outputs": [
    {
     "data": {
      "text/plain": [
       "DummyRegressor()"
      ]
     },
     "execution_count": 48,
     "metadata": {},
     "output_type": "execute_result"
    }
   ],
   "source": [
    "# baseline with student survey data\n",
    "dummy = DummyRegressor()\n",
    "dummy.fit(X_train_ss, y_train)"
   ]
  },
  {
   "cell_type": "code",
   "execution_count": 49,
   "metadata": {},
   "outputs": [
    {
     "data": {
      "text/plain": [
       "0.0"
      ]
     },
     "execution_count": 49,
     "metadata": {},
     "output_type": "execute_result"
    }
   ],
   "source": [
    "dummy.score(X_train_ss, y_train)"
   ]
  },
  {
   "cell_type": "code",
   "execution_count": 50,
   "metadata": {},
   "outputs": [
    {
     "data": {
      "text/plain": [
       "-0.005950662039365007"
      ]
     },
     "execution_count": 50,
     "metadata": {},
     "output_type": "execute_result"
    }
   ],
   "source": [
    "dummy.score(X_test_ss, y_test)"
   ]
  },
  {
   "cell_type": "code",
   "execution_count": 51,
   "metadata": {},
   "outputs": [
    {
     "data": {
      "text/plain": [
       "(0.8125059656220384, 0.7967089966348305)"
      ]
     },
     "execution_count": 51,
     "metadata": {},
     "output_type": "execute_result"
    }
   ],
   "source": [
    "grid.score(X_train_ss, y_train), grid.score(X_test_ss, y_test)"
   ]
  },
  {
   "cell_type": "code",
   "execution_count": 52,
   "metadata": {},
   "outputs": [],
   "source": [
    "preds = grid.predict(X_test_ss)"
   ]
  },
  {
   "cell_type": "code",
   "execution_count": 53,
   "metadata": {},
   "outputs": [
    {
     "data": {
      "text/plain": [
       "0.7560507959617965"
      ]
     },
     "execution_count": 53,
     "metadata": {},
     "output_type": "execute_result"
    }
   ],
   "source": [
    "adj_r2(y_test_19, preds, 20) # using the number of PCs"
   ]
  },
  {
   "cell_type": "code",
   "execution_count": null,
   "metadata": {},
   "outputs": [],
   "source": []
  },
  {
   "cell_type": "code",
   "execution_count": null,
   "metadata": {},
   "outputs": [],
   "source": []
  },
  {
   "cell_type": "code",
   "execution_count": null,
   "metadata": {},
   "outputs": [],
   "source": []
  },
  {
   "cell_type": "code",
   "execution_count": null,
   "metadata": {},
   "outputs": [],
   "source": []
  },
  {
   "cell_type": "code",
   "execution_count": null,
   "metadata": {},
   "outputs": [],
   "source": []
  },
  {
   "cell_type": "code",
   "execution_count": 125,
   "metadata": {},
   "outputs": [
    {
     "data": {
      "image/png": "[encoded data removed]",
      "text/plain": [
       "<Figure size 576x396 with 2 Axes>"
      ]
     },
     "metadata": {},
     "output_type": "display_data"
    }
   ],
   "source": [
    "pca_vis = pca_decomposition(\n",
    "    X_19, y_19, scale=True\n",
    ")"
   ]
  },
  {
   "cell_type": "code",
   "execution_count": 124,
   "metadata": {},
   "outputs": [
    {
     "data": {
      "text/plain": [
       "array([[ 0.01308639, -0.03555699, -0.03719361, ..., -0.00587609,\n",
       "         0.00072596, -0.00581308],\n",
       "       [ 0.02320322,  0.0070709 , -0.01158244, ...,  0.03665287,\n",
       "         0.01718971,  0.02811359]])"
      ]
     },
     "execution_count": 124,
     "metadata": {},
     "output_type": "execute_result"
    }
   ],
   "source": [
    "pca_vis.pca_components_"
   ]
  },
  {
   "cell_type": "code",
   "execution_count": null,
   "metadata": {},
   "outputs": [],
   "source": []
  }
 ],
 "metadata": {
  "kernelspec": {
   "display_name": "Python 3",
   "language": "python",
   "name": "python3"
  },
  "language_info": {
   "codemirror_mode": {
    "name": "ipython",
    "version": 3
   },
   "file_extension": ".py",
   "mimetype": "text/x-python",
   "name": "python",
   "nbconvert_exporter": "python",
   "pygments_lexer": "ipython3",
   "version": "3.7.7"
  }
 },
 "nbformat": 4,
 "nbformat_minor": 4
}
