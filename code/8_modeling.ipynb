{
 "cells": [
  {
   "cell_type": "code",
   "execution_count": 1,
   "metadata": {},
   "outputs": [],
   "source": [
    "import pandas as pd\n",
    "import numpy as np\n",
    "import matplotlib.pyplot as plt\n",
    "import seaborn as sns\n",
    "\n",
    "# Import from sklearn.\n",
    "from sklearn.model_selection import train_test_split, cross_val_score, GridSearchCV\n",
    "from sklearn.dummy import DummyRegressor\n",
    "from sklearn.linear_model import LinearRegression, RidgeCV\n",
    "from sklearn.metrics import r2_score, mean_squared_error\n",
    "from sklearn.decomposition import PCA\n",
    "from sklearn.preprocessing import StandardScaler\n",
    "from sklearn.pipeline import make_pipeline\n",
    "import statsmodels.api as sm\n",
    "from sklearn.feature_selection import SelectKBest, f_regression\n",
    "from sklearn.inspection import partial_dependence, plot_partial_dependence"
   ]
  },
  {
   "cell_type": "code",
   "execution_count": 2,
   "metadata": {},
   "outputs": [],
   "source": [
    "stu_19 = pd.read_csv('../data/summary_student.csv')"
   ]
  },
  {
   "cell_type": "code",
   "execution_count": 3,
   "metadata": {},
   "outputs": [
    {
     "data": {
      "text/html": [
       "<div>\n",
       "<style scoped>\n",
       "    .dataframe tbody tr th:only-of-type {\n",
       "        vertical-align: middle;\n",
       "    }\n",
       "\n",
       "    .dataframe tbody tr th {\n",
       "        vertical-align: top;\n",
       "    }\n",
       "\n",
       "    .dataframe thead th {\n",
       "        text-align: right;\n",
       "    }\n",
       "</style>\n",
       "<table border=\"1\" class=\"dataframe\">\n",
       "  <thead>\n",
       "    <tr style=\"text-align: right;\">\n",
       "      <th></th>\n",
       "      <th>dbn</th>\n",
       "      <th>school_name</th>\n",
       "      <th>student_response_rate</th>\n",
       "      <th>1a</th>\n",
       "      <th>1b</th>\n",
       "      <th>1c</th>\n",
       "      <th>1d</th>\n",
       "      <th>1e</th>\n",
       "      <th>1f</th>\n",
       "      <th>1g</th>\n",
       "      <th>...</th>\n",
       "      <th>8b</th>\n",
       "      <th>8c</th>\n",
       "      <th>8d</th>\n",
       "      <th>8e</th>\n",
       "      <th>8f</th>\n",
       "      <th>8g</th>\n",
       "      <th>8h</th>\n",
       "      <th>9a</th>\n",
       "      <th>9b</th>\n",
       "      <th>combined_mean_score</th>\n",
       "    </tr>\n",
       "  </thead>\n",
       "  <tbody>\n",
       "    <tr>\n",
       "      <th>0</th>\n",
       "      <td>01M034</td>\n",
       "      <td>P.S. 034 FRANKLIN D. ROOSEVELT</td>\n",
       "      <td>95.0</td>\n",
       "      <td>17.31</td>\n",
       "      <td>20.33</td>\n",
       "      <td>13.86</td>\n",
       "      <td>14.69</td>\n",
       "      <td>30.21</td>\n",
       "      <td>26.27</td>\n",
       "      <td>19.69</td>\n",
       "      <td>...</td>\n",
       "      <td>2.62</td>\n",
       "      <td>2.50</td>\n",
       "      <td>2.68</td>\n",
       "      <td>2.46</td>\n",
       "      <td>2.76</td>\n",
       "      <td>1.73</td>\n",
       "      <td>1.80</td>\n",
       "      <td>3.11</td>\n",
       "      <td>3.16</td>\n",
       "      <td>587.928579</td>\n",
       "    </tr>\n",
       "    <tr>\n",
       "      <th>1</th>\n",
       "      <td>01M140</td>\n",
       "      <td>P.S. 140 NATHAN STRAUS</td>\n",
       "      <td>87.0</td>\n",
       "      <td>16.22</td>\n",
       "      <td>13.52</td>\n",
       "      <td>11.91</td>\n",
       "      <td>12.06</td>\n",
       "      <td>25.48</td>\n",
       "      <td>18.44</td>\n",
       "      <td>18.73</td>\n",
       "      <td>...</td>\n",
       "      <td>2.34</td>\n",
       "      <td>2.13</td>\n",
       "      <td>2.41</td>\n",
       "      <td>2.67</td>\n",
       "      <td>2.67</td>\n",
       "      <td>1.47</td>\n",
       "      <td>1.81</td>\n",
       "      <td>3.16</td>\n",
       "      <td>3.18</td>\n",
       "      <td>589.583906</td>\n",
       "    </tr>\n",
       "  </tbody>\n",
       "</table>\n",
       "<p>2 rows × 62 columns</p>\n",
       "</div>"
      ],
      "text/plain": [
       "      dbn                     school_name  student_response_rate     1a  \\\n",
       "0  01M034  P.S. 034 FRANKLIN D. ROOSEVELT                   95.0  17.31   \n",
       "1  01M140          P.S. 140 NATHAN STRAUS                   87.0  16.22   \n",
       "\n",
       "      1b     1c     1d     1e     1f     1g  ...    8b    8c    8d    8e  \\\n",
       "0  20.33  13.86  14.69  30.21  26.27  19.69  ...  2.62  2.50  2.68  2.46   \n",
       "1  13.52  11.91  12.06  25.48  18.44  18.73  ...  2.34  2.13  2.41  2.67   \n",
       "\n",
       "     8f    8g    8h    9a    9b  combined_mean_score  \n",
       "0  2.76  1.73  1.80  3.11  3.16           587.928579  \n",
       "1  2.67  1.47  1.81  3.16  3.18           589.583906  \n",
       "\n",
       "[2 rows x 62 columns]"
      ]
     },
     "execution_count": 3,
     "metadata": {},
     "output_type": "execute_result"
    }
   ],
   "source": [
    "stu_19.head(2)"
   ]
  },
  {
   "cell_type": "code",
   "execution_count": 4,
   "metadata": {},
   "outputs": [],
   "source": [
    "# I will be using adjusted R2 later, so I will make a function now.\n",
    "def adj_r2(y_true, y_preds, features):\n",
    "    '''Calculates the adjusted R2 score from y_true, y_preds, and the  number of features.\n",
    "    This function uses the r2_score function from sklearn.\n",
    "    '''\n",
    "    n = len(y_true)\n",
    "    true_mean = np.mean(y_true)\n",
    "    r2 = r2_score(y_true, y_preds)\n",
    "    adj_r2 = 1 - (1 - r2) * (n - 1) / (n - features - 1)\n",
    "    return adj_r2"
   ]
  },
  {
   "cell_type": "code",
   "execution_count": 5,
   "metadata": {},
   "outputs": [],
   "source": [
    "# Instantiate X\n",
    "X = stu_19.iloc[:, 3:-1]\n",
    "y = stu_19['combined_mean_score']"
   ]
  },
  {
   "cell_type": "code",
   "execution_count": 6,
   "metadata": {},
   "outputs": [],
   "source": [
    "X_train, X_test, y_train, y_test = train_test_split(X, y, random_state=77)"
   ]
  },
  {
   "cell_type": "code",
   "execution_count": 7,
   "metadata": {},
   "outputs": [],
   "source": [
    "# null model\n",
    "null = DummyRegressor()\n",
    "null.fit(X_train, y_train)\n",
    "null_score = null.score(X_test, y_test)\n",
    "null_preds = null.predict(X_test)\n",
    "null_adj_r2 = adj_r2(y_test, null_preds, len(X.columns))\n",
    "null_mse = mean_squared_error(y_test, null_preds)\n",
    "\n",
    "scores = pd.DataFrame({'model': 'null', 'r2': null_score, 'adjusted_r2': null_adj_r2, 'mse': null_mse}, index=[0])"
   ]
  },
  {
   "cell_type": "code",
   "execution_count": 8,
   "metadata": {},
   "outputs": [
    {
     "data": {
      "text/plain": [
       "LinearRegression()"
      ]
     },
     "execution_count": 8,
     "metadata": {},
     "output_type": "execute_result"
    }
   ],
   "source": [
    "# There are a lot of collinearity among features, but I want to see what the performance of a linear model with all features\n",
    "\n",
    "lr = LinearRegression()\n",
    "lr.fit(X_train, y_train)"
   ]
  },
  {
   "cell_type": "code",
   "execution_count": 9,
   "metadata": {},
   "outputs": [
    {
     "data": {
      "text/plain": [
       "array([0.75852848, 0.76051448, 0.81951115, 0.78143553, 0.71763426])"
      ]
     },
     "execution_count": 9,
     "metadata": {},
     "output_type": "execute_result"
    }
   ],
   "source": [
    "# cross validation\n",
    "cross_val_score(lr, X_train, y_train)"
   ]
  },
  {
   "cell_type": "code",
   "execution_count": 10,
   "metadata": {},
   "outputs": [],
   "source": [
    "lr_score = lr.score(X_test, y_test)"
   ]
  },
  {
   "cell_type": "markdown",
   "metadata": {},
   "source": [
    "This is a pretty high R2 score, but I am using all features (58 of them), so I need to calculate the adjusted R2"
   ]
  },
  {
   "cell_type": "code",
   "execution_count": 11,
   "metadata": {},
   "outputs": [],
   "source": [
    "preds = lr.predict(X_test)"
   ]
  },
  {
   "cell_type": "code",
   "execution_count": 12,
   "metadata": {},
   "outputs": [
    {
     "data": {
      "text/plain": [
       "0.622971680717458"
      ]
     },
     "execution_count": 12,
     "metadata": {},
     "output_type": "execute_result"
    }
   ],
   "source": [
    "# calculate adjusted R2\n",
    "r2_adj = adj_r2(y_test, preds, len(X_train.columns))\n",
    "r2_adj"
   ]
  },
  {
   "cell_type": "code",
   "execution_count": 13,
   "metadata": {},
   "outputs": [
    {
     "data": {
      "text/plain": [
       "27.075655309245082"
      ]
     },
     "execution_count": 13,
     "metadata": {},
     "output_type": "execute_result"
    }
   ],
   "source": [
    "# calculate mean squared error\n",
    "mse = mean_squared_error(y_test, preds)\n",
    "mse"
   ]
  },
  {
   "cell_type": "code",
   "execution_count": 14,
   "metadata": {},
   "outputs": [],
   "source": [
    "scores_d = {'model': 'linear_all', 'r2': lr_score, 'adjusted_r2': r2_adj, 'mse': mse}\n",
    "scores = scores.append(scores_d, ignore_index=True)"
   ]
  },
  {
   "cell_type": "markdown",
   "metadata": {},
   "source": [
    "It still looks like the student survey responses do have some predictive power. I'm going to verify with PCA before I tackle the collinearity in depth for an interpretable model"
   ]
  },
  {
   "cell_type": "code",
   "execution_count": 15,
   "metadata": {},
   "outputs": [
    {
     "data": {
      "text/plain": [
       "PCA()"
      ]
     },
     "execution_count": 15,
     "metadata": {},
     "output_type": "execute_result"
    }
   ],
   "source": [
    "# PCA should help with the collinearity issue\n",
    "\n",
    "# scale data first\n",
    "ss = StandardScaler()\n",
    "X_train_ss = ss.fit_transform(X_train, y_train)\n",
    "X_test_ss = ss.transform(X_test)\n",
    "\n",
    "pca = PCA()\n",
    "pca.fit(X_train_ss)"
   ]
  },
  {
   "cell_type": "code",
   "execution_count": 16,
   "metadata": {},
   "outputs": [
    {
     "data": {
      "image/png": "[encoded data removed]",
      "text/plain": [
       "<Figure size 432x288 with 1 Axes>"
      ]
     },
     "metadata": {
      "needs_background": "light"
     },
     "output_type": "display_data"
    }
   ],
   "source": [
    "# plot the explanined variance\n",
    "var_exp = pca.explained_variance_ratio_\n",
    "cum_var_exp = np.cumsum(var_exp)\n",
    "\n",
    "plt.plot(range(len(var_exp)), var_exp, lw=3, label = 'Variance Explained')\n",
    "# plt.plot(range(len(cum_var_exp)), cum_var_exp, label = 'Cumulative Variance Explained')\n",
    "plt.axhline(y=0, linewidth=1, color='grey', ls='dashed')\n",
    "plt.title('Explained Variance by Prinicipal Components')\n",
    "plt.xlabel('Principal Component')\n",
    "plt.ylabel('Explained Variance');"
   ]
  },
  {
   "cell_type": "code",
   "execution_count": 17,
   "metadata": {},
   "outputs": [
    {
     "data": {
      "image/png": "[encoded data removed]",
      "text/plain": [
       "<Figure size 432x288 with 1 Axes>"
      ]
     },
     "metadata": {
      "needs_background": "light"
     },
     "output_type": "display_data"
    }
   ],
   "source": [
    "# make a scree plot\n",
    "eigenvals = pca.explained_variance_\n",
    "\n",
    "plt.plot(eigenvals)\n",
    "\n",
    "plt.xlabel('Principal Component')\n",
    "plt.ylabel('Eigenvalues')\n",
    "plt.title('Scree Plot')\n",
    "plt.axhline(y=1, linewidth=1, color='grey', ls='dashed')\n",
    "plt.xlim(0, 30);"
   ]
  },
  {
   "cell_type": "code",
   "execution_count": 18,
   "metadata": {},
   "outputs": [
    {
     "data": {
      "text/plain": [
       "GridSearchCV(cv=10,\n",
       "             estimator=Pipeline(steps=[('pca', PCA()),\n",
       "                                       ('linearregression',\n",
       "                                        LinearRegression())]),\n",
       "             param_grid={'pca__n_components': [2, 5, 6, 10]})"
      ]
     },
     "execution_count": 18,
     "metadata": {},
     "output_type": "execute_result"
    }
   ],
   "source": [
    "# setup pipeline with PCA and linear regression\n",
    "pipe = make_pipeline(PCA(), LinearRegression())\n",
    "\n",
    "params = {'pca__n_components': [2, 5, 6, 10]} \n",
    "\n",
    "grid = GridSearchCV(pipe, param_grid=params, cv=10)\n",
    "\n",
    "grid.fit(X_train_ss, y_train)"
   ]
  },
  {
   "cell_type": "code",
   "execution_count": 19,
   "metadata": {},
   "outputs": [
    {
     "data": {
      "text/plain": [
       "{'pca__n_components': 10}"
      ]
     },
     "execution_count": 19,
     "metadata": {},
     "output_type": "execute_result"
    }
   ],
   "source": [
    "grid.best_params_"
   ]
  },
  {
   "cell_type": "code",
   "execution_count": 20,
   "metadata": {},
   "outputs": [
    {
     "data": {
      "text/plain": [
       "0.7045743444897573"
      ]
     },
     "execution_count": 20,
     "metadata": {},
     "output_type": "execute_result"
    }
   ],
   "source": [
    "pca_lr_score = grid.score(X_test_ss, y_test)\n",
    "pca_lr_score"
   ]
  },
  {
   "cell_type": "code",
   "execution_count": 21,
   "metadata": {},
   "outputs": [
    {
     "data": {
      "text/plain": [
       "0.700593475676009"
      ]
     },
     "execution_count": 21,
     "metadata": {},
     "output_type": "execute_result"
    }
   ],
   "source": [
    "grid.score(X_train_ss, y_train)"
   ]
  },
  {
   "cell_type": "code",
   "execution_count": 22,
   "metadata": {},
   "outputs": [],
   "source": [
    "predictions = grid.predict(X_test_ss)"
   ]
  },
  {
   "cell_type": "code",
   "execution_count": 23,
   "metadata": {},
   "outputs": [
    {
     "data": {
      "text/plain": [
       "0.6777174667160988"
      ]
     },
     "execution_count": 23,
     "metadata": {},
     "output_type": "execute_result"
    }
   ],
   "source": [
    "r2_adj = adj_r2(y_test, predictions, 10)\n",
    "r2_adj"
   ]
  },
  {
   "cell_type": "code",
   "execution_count": 24,
   "metadata": {},
   "outputs": [
    {
     "data": {
      "text/plain": [
       "41.06225247084549"
      ]
     },
     "execution_count": 24,
     "metadata": {},
     "output_type": "execute_result"
    }
   ],
   "source": [
    "mse = mean_squared_error(y_test, predictions)\n",
    "mse"
   ]
  },
  {
   "cell_type": "code",
   "execution_count": 25,
   "metadata": {},
   "outputs": [],
   "source": [
    "scores_d = {'model': 'pca_linear', 'r2': pca_lr_score, 'adjusted_r2': r2_adj, 'mse': mse}\n",
    "scores = scores.append(scores_d, ignore_index=True)"
   ]
  },
  {
   "cell_type": "code",
   "execution_count": 26,
   "metadata": {},
   "outputs": [
    {
     "data": {
      "text/plain": [
       "array([[-0.35764505, -0.05400063,  0.05926097, ...,  0.79500897,\n",
       "         0.37847716, -0.44737328],\n",
       "       [ 0.58389566,  0.12194332, -0.61299937, ..., -0.97897598,\n",
       "         0.40664495, -0.72552052],\n",
       "       [ 0.13957902, -0.38893243,  0.85841979, ..., -1.25135261,\n",
       "        -0.75056906, -0.64177341],\n",
       "       ...,\n",
       "       [ 0.02465718,  1.00419289,  0.12803381, ...,  0.88424677,\n",
       "         0.7867966 , -0.09921965],\n",
       "       [ 0.27308311, -0.82871624, -0.14016944, ..., -0.75101502,\n",
       "        -0.39604605, -0.44731047],\n",
       "       [-0.71294949,  1.58759966,  0.81841982, ...,  0.2450022 ,\n",
       "        -1.28412618, -0.00900601]])"
      ]
     },
     "execution_count": 26,
     "metadata": {},
     "output_type": "execute_result"
    }
   ],
   "source": [
    "pca.inverse_transform(X_train_ss)"
   ]
  },
  {
   "cell_type": "markdown",
   "metadata": {},
   "source": [
    "### Feature Selection\n",
    "In order to reduce the number of features, I will be doing a few things. First, I will remove a few questions that are addressing the same topics first."
   ]
  },
  {
   "cell_type": "code",
   "execution_count": 27,
   "metadata": {},
   "outputs": [],
   "source": [
    "# Questions 8b-e will be dropped. 8a can address all the other questions. Questions 9a and 9b can be addressed by just 9b.\n",
    "stu_19.drop(columns=['8b', '8c', '8d', '8e', '9a'], inplace=True)"
   ]
  },
  {
   "cell_type": "code",
   "execution_count": 28,
   "metadata": {},
   "outputs": [],
   "source": [
    "from sklearn.cross_decomposition import PLSRegression # available on dev version"
   ]
  },
  {
   "cell_type": "code",
   "execution_count": 29,
   "metadata": {
    "jupyter": {
     "source_hidden": true
    }
   },
   "outputs": [],
   "source": [
    "X = stu_19.iloc[:, 3:-1]\n",
    "Y = stu_19[['combined_mean_score']]"
   ]
  },
  {
   "cell_type": "code",
   "execution_count": 30,
   "metadata": {
    "jupyter": {
     "source_hidden": true
    }
   },
   "outputs": [
    {
     "data": {
      "text/html": [
       "<div>\n",
       "<style scoped>\n",
       "    .dataframe tbody tr th:only-of-type {\n",
       "        vertical-align: middle;\n",
       "    }\n",
       "\n",
       "    .dataframe tbody tr th {\n",
       "        vertical-align: top;\n",
       "    }\n",
       "\n",
       "    .dataframe thead th {\n",
       "        text-align: right;\n",
       "    }\n",
       "</style>\n",
       "<table border=\"1\" class=\"dataframe\">\n",
       "  <thead>\n",
       "    <tr style=\"text-align: right;\">\n",
       "      <th></th>\n",
       "      <th>1a</th>\n",
       "      <th>1b</th>\n",
       "      <th>1c</th>\n",
       "      <th>1d</th>\n",
       "      <th>1e</th>\n",
       "      <th>1f</th>\n",
       "      <th>1g</th>\n",
       "      <th>1h</th>\n",
       "      <th>1i</th>\n",
       "      <th>1j</th>\n",
       "      <th>...</th>\n",
       "      <th>6i</th>\n",
       "      <th>7a</th>\n",
       "      <th>7b</th>\n",
       "      <th>7c</th>\n",
       "      <th>7d</th>\n",
       "      <th>8a</th>\n",
       "      <th>8f</th>\n",
       "      <th>8g</th>\n",
       "      <th>8h</th>\n",
       "      <th>9b</th>\n",
       "    </tr>\n",
       "  </thead>\n",
       "  <tbody>\n",
       "    <tr>\n",
       "      <th>0</th>\n",
       "      <td>17.31</td>\n",
       "      <td>20.33</td>\n",
       "      <td>13.86</td>\n",
       "      <td>14.69</td>\n",
       "      <td>30.21</td>\n",
       "      <td>26.27</td>\n",
       "      <td>19.69</td>\n",
       "      <td>14.71</td>\n",
       "      <td>18.71</td>\n",
       "      <td>21.33</td>\n",
       "      <td>...</td>\n",
       "      <td>2.94</td>\n",
       "      <td>2.97</td>\n",
       "      <td>3.09</td>\n",
       "      <td>2.92</td>\n",
       "      <td>3.10</td>\n",
       "      <td>2.89</td>\n",
       "      <td>2.76</td>\n",
       "      <td>1.73</td>\n",
       "      <td>1.80</td>\n",
       "      <td>3.16</td>\n",
       "    </tr>\n",
       "    <tr>\n",
       "      <th>1</th>\n",
       "      <td>16.22</td>\n",
       "      <td>13.52</td>\n",
       "      <td>11.91</td>\n",
       "      <td>12.06</td>\n",
       "      <td>25.48</td>\n",
       "      <td>18.44</td>\n",
       "      <td>18.73</td>\n",
       "      <td>10.06</td>\n",
       "      <td>10.10</td>\n",
       "      <td>15.47</td>\n",
       "      <td>...</td>\n",
       "      <td>2.92</td>\n",
       "      <td>2.82</td>\n",
       "      <td>3.03</td>\n",
       "      <td>3.01</td>\n",
       "      <td>3.04</td>\n",
       "      <td>2.73</td>\n",
       "      <td>2.67</td>\n",
       "      <td>1.47</td>\n",
       "      <td>1.81</td>\n",
       "      <td>3.18</td>\n",
       "    </tr>\n",
       "    <tr>\n",
       "      <th>2</th>\n",
       "      <td>12.47</td>\n",
       "      <td>18.27</td>\n",
       "      <td>15.32</td>\n",
       "      <td>14.14</td>\n",
       "      <td>36.05</td>\n",
       "      <td>22.33</td>\n",
       "      <td>15.70</td>\n",
       "      <td>12.01</td>\n",
       "      <td>14.93</td>\n",
       "      <td>16.53</td>\n",
       "      <td>...</td>\n",
       "      <td>3.00</td>\n",
       "      <td>2.90</td>\n",
       "      <td>2.98</td>\n",
       "      <td>3.09</td>\n",
       "      <td>3.27</td>\n",
       "      <td>2.58</td>\n",
       "      <td>2.37</td>\n",
       "      <td>1.34</td>\n",
       "      <td>1.64</td>\n",
       "      <td>3.09</td>\n",
       "    </tr>\n",
       "    <tr>\n",
       "      <th>3</th>\n",
       "      <td>3.93</td>\n",
       "      <td>3.87</td>\n",
       "      <td>3.92</td>\n",
       "      <td>3.87</td>\n",
       "      <td>3.92</td>\n",
       "      <td>3.89</td>\n",
       "      <td>3.89</td>\n",
       "      <td>3.91</td>\n",
       "      <td>3.91</td>\n",
       "      <td>3.89</td>\n",
       "      <td>...</td>\n",
       "      <td>3.60</td>\n",
       "      <td>3.63</td>\n",
       "      <td>3.48</td>\n",
       "      <td>3.84</td>\n",
       "      <td>3.77</td>\n",
       "      <td>1.28</td>\n",
       "      <td>1.50</td>\n",
       "      <td>1.12</td>\n",
       "      <td>1.10</td>\n",
       "      <td>3.87</td>\n",
       "    </tr>\n",
       "    <tr>\n",
       "      <th>4</th>\n",
       "      <td>11.78</td>\n",
       "      <td>16.62</td>\n",
       "      <td>15.19</td>\n",
       "      <td>10.10</td>\n",
       "      <td>23.72</td>\n",
       "      <td>17.65</td>\n",
       "      <td>10.06</td>\n",
       "      <td>14.85</td>\n",
       "      <td>19.71</td>\n",
       "      <td>19.35</td>\n",
       "      <td>...</td>\n",
       "      <td>2.79</td>\n",
       "      <td>3.04</td>\n",
       "      <td>3.14</td>\n",
       "      <td>2.95</td>\n",
       "      <td>3.08</td>\n",
       "      <td>2.67</td>\n",
       "      <td>2.70</td>\n",
       "      <td>1.34</td>\n",
       "      <td>1.47</td>\n",
       "      <td>3.20</td>\n",
       "    </tr>\n",
       "  </tbody>\n",
       "</table>\n",
       "<p>5 rows × 53 columns</p>\n",
       "</div>"
      ],
      "text/plain": [
       "      1a     1b     1c     1d     1e     1f     1g     1h     1i     1j  ...  \\\n",
       "0  17.31  20.33  13.86  14.69  30.21  26.27  19.69  14.71  18.71  21.33  ...   \n",
       "1  16.22  13.52  11.91  12.06  25.48  18.44  18.73  10.06  10.10  15.47  ...   \n",
       "2  12.47  18.27  15.32  14.14  36.05  22.33  15.70  12.01  14.93  16.53  ...   \n",
       "3   3.93   3.87   3.92   3.87   3.92   3.89   3.89   3.91   3.91   3.89  ...   \n",
       "4  11.78  16.62  15.19  10.10  23.72  17.65  10.06  14.85  19.71  19.35  ...   \n",
       "\n",
       "     6i    7a    7b    7c    7d    8a    8f    8g    8h    9b  \n",
       "0  2.94  2.97  3.09  2.92  3.10  2.89  2.76  1.73  1.80  3.16  \n",
       "1  2.92  2.82  3.03  3.01  3.04  2.73  2.67  1.47  1.81  3.18  \n",
       "2  3.00  2.90  2.98  3.09  3.27  2.58  2.37  1.34  1.64  3.09  \n",
       "3  3.60  3.63  3.48  3.84  3.77  1.28  1.50  1.12  1.10  3.87  \n",
       "4  2.79  3.04  3.14  2.95  3.08  2.67  2.70  1.34  1.47  3.20  \n",
       "\n",
       "[5 rows x 53 columns]"
      ]
     },
     "execution_count": 30,
     "metadata": {},
     "output_type": "execute_result"
    }
   ],
   "source": [
    "X.head()"
   ]
  },
  {
   "cell_type": "code",
   "execution_count": 31,
   "metadata": {
    "jupyter": {
     "source_hidden": true
    }
   },
   "outputs": [
    {
     "data": {
      "text/html": [
       "<div>\n",
       "<style scoped>\n",
       "    .dataframe tbody tr th:only-of-type {\n",
       "        vertical-align: middle;\n",
       "    }\n",
       "\n",
       "    .dataframe tbody tr th {\n",
       "        vertical-align: top;\n",
       "    }\n",
       "\n",
       "    .dataframe thead th {\n",
       "        text-align: right;\n",
       "    }\n",
       "</style>\n",
       "<table border=\"1\" class=\"dataframe\">\n",
       "  <thead>\n",
       "    <tr style=\"text-align: right;\">\n",
       "      <th></th>\n",
       "      <th>combined_mean_score</th>\n",
       "    </tr>\n",
       "  </thead>\n",
       "  <tbody>\n",
       "    <tr>\n",
       "      <th>0</th>\n",
       "      <td>587.928579</td>\n",
       "    </tr>\n",
       "    <tr>\n",
       "      <th>1</th>\n",
       "      <td>589.583906</td>\n",
       "    </tr>\n",
       "    <tr>\n",
       "      <th>2</th>\n",
       "      <td>615.871862</td>\n",
       "    </tr>\n",
       "    <tr>\n",
       "      <th>3</th>\n",
       "      <td>595.348350</td>\n",
       "    </tr>\n",
       "    <tr>\n",
       "      <th>4</th>\n",
       "      <td>589.192540</td>\n",
       "    </tr>\n",
       "  </tbody>\n",
       "</table>\n",
       "</div>"
      ],
      "text/plain": [
       "   combined_mean_score\n",
       "0           587.928579\n",
       "1           589.583906\n",
       "2           615.871862\n",
       "3           595.348350\n",
       "4           589.192540"
      ]
     },
     "execution_count": 31,
     "metadata": {},
     "output_type": "execute_result"
    }
   ],
   "source": [
    "Y.head()"
   ]
  },
  {
   "cell_type": "code",
   "execution_count": 32,
   "metadata": {
    "jupyter": {
     "source_hidden": true
    }
   },
   "outputs": [
    {
     "data": {
      "text/plain": [
       "PLSRegression(n_components=5)"
      ]
     },
     "execution_count": 32,
     "metadata": {},
     "output_type": "execute_result"
    }
   ],
   "source": [
    "pls5 = PLSRegression(n_components=5)\n",
    "pls5.fit(X, Y)"
   ]
  },
  {
   "cell_type": "code",
   "execution_count": 33,
   "metadata": {
    "jupyter": {
     "source_hidden": true
    }
   },
   "outputs": [
    {
     "data": {
      "text/plain": [
       "{'copy': True, 'max_iter': 500, 'n_components': 5, 'scale': True, 'tol': 1e-06}"
      ]
     },
     "execution_count": 33,
     "metadata": {},
     "output_type": "execute_result"
    }
   ],
   "source": [
    "pls5.get_params()"
   ]
  },
  {
   "cell_type": "code",
   "execution_count": 34,
   "metadata": {
    "jupyter": {
     "source_hidden": true
    }
   },
   "outputs": [
    {
     "data": {
      "text/plain": [
       "0.8039895864344707"
      ]
     },
     "execution_count": 34,
     "metadata": {},
     "output_type": "execute_result"
    }
   ],
   "source": [
    "pls5.score(X, Y)"
   ]
  },
  {
   "cell_type": "code",
   "execution_count": 35,
   "metadata": {},
   "outputs": [],
   "source": [
    "X = stu_19.iloc[:, 3:-1]\n",
    "y = stu_19['combined_mean_score']"
   ]
  },
  {
   "cell_type": "code",
   "execution_count": 36,
   "metadata": {},
   "outputs": [],
   "source": [
    "X_train, X_test, y_train, y_test = train_test_split(X, y, random_state = 22)"
   ]
  },
  {
   "cell_type": "code",
   "execution_count": 37,
   "metadata": {},
   "outputs": [
    {
     "data": {
      "text/plain": [
       "((361, 53), (121, 53))"
      ]
     },
     "execution_count": 37,
     "metadata": {},
     "output_type": "execute_result"
    }
   ],
   "source": [
    "X_train.shape, X_test.shape"
   ]
  },
  {
   "cell_type": "code",
   "execution_count": 38,
   "metadata": {},
   "outputs": [
    {
     "data": {
      "text/plain": [
       "-0.01270516140431699"
      ]
     },
     "execution_count": 38,
     "metadata": {},
     "output_type": "execute_result"
    }
   ],
   "source": [
    "null = DummyRegressor()\n",
    "null.fit(X_train, y_train)\n",
    "null.score(X_test, y_test)"
   ]
  },
  {
   "cell_type": "code",
   "execution_count": 39,
   "metadata": {},
   "outputs": [
    {
     "data": {
      "text/plain": [
       "LinearRegression()"
      ]
     },
     "execution_count": 39,
     "metadata": {},
     "output_type": "execute_result"
    }
   ],
   "source": [
    "lr = LinearRegression()\n",
    "lr.fit(X_train, y_train)"
   ]
  },
  {
   "cell_type": "code",
   "execution_count": 40,
   "metadata": {},
   "outputs": [
    {
     "data": {
      "text/plain": [
       "array([0.72731143, 0.73726497, 0.76629051, 0.79599076, 0.82185966])"
      ]
     },
     "execution_count": 40,
     "metadata": {},
     "output_type": "execute_result"
    }
   ],
   "source": [
    "cross_val_score(lr, X_train, y_train)"
   ]
  },
  {
   "cell_type": "code",
   "execution_count": 41,
   "metadata": {},
   "outputs": [
    {
     "data": {
      "text/plain": [
       "0.7697434664585432"
      ]
     },
     "execution_count": 41,
     "metadata": {},
     "output_type": "execute_result"
    }
   ],
   "source": [
    "np.mean(cross_val_score(lr, X_train, y_train))"
   ]
  },
  {
   "cell_type": "code",
   "execution_count": 42,
   "metadata": {},
   "outputs": [
    {
     "data": {
      "text/plain": [
       "0.8499197212069052"
      ]
     },
     "execution_count": 42,
     "metadata": {},
     "output_type": "execute_result"
    }
   ],
   "source": [
    "lr.score(X_train, y_train)"
   ]
  },
  {
   "cell_type": "code",
   "execution_count": 43,
   "metadata": {},
   "outputs": [
    {
     "data": {
      "text/plain": [
       "0.7945335144537562"
      ]
     },
     "execution_count": 43,
     "metadata": {},
     "output_type": "execute_result"
    }
   ],
   "source": [
    "linear_reduced = lr.score(X_test, y_test)\n",
    "linear_reduced"
   ]
  },
  {
   "cell_type": "code",
   "execution_count": 44,
   "metadata": {},
   "outputs": [],
   "source": [
    "preds = lr.predict(X_test)"
   ]
  },
  {
   "cell_type": "code",
   "execution_count": 45,
   "metadata": {},
   "outputs": [
    {
     "data": {
      "text/plain": [
       "0.6320003243947871"
      ]
     },
     "execution_count": 45,
     "metadata": {},
     "output_type": "execute_result"
    }
   ],
   "source": [
    "r2_adj = adj_r2(y_test, preds, len(X_test.columns))\n",
    "r2_adj"
   ]
  },
  {
   "cell_type": "code",
   "execution_count": 46,
   "metadata": {},
   "outputs": [
    {
     "data": {
      "text/plain": [
       "22.398451759226774"
      ]
     },
     "execution_count": 46,
     "metadata": {},
     "output_type": "execute_result"
    }
   ],
   "source": [
    "mse = mean_squared_error(y_test, preds)\n",
    "mse"
   ]
  },
  {
   "cell_type": "code",
   "execution_count": 47,
   "metadata": {},
   "outputs": [],
   "source": [
    "scores_d = {'model': 'linear_reduced', 'r2': linear_reduced, 'adjusted_r2': r2_adj, 'mse': mse}\n",
    "scores = scores.append(scores_d, ignore_index=True)"
   ]
  },
  {
   "cell_type": "code",
   "execution_count": 48,
   "metadata": {},
   "outputs": [
    {
     "data": {
      "text/plain": [
       "array([ -0.08842259,   0.13328664,   0.10123907,  -0.11625008,\n",
       "         0.10667826,   0.10359663,  -0.12385575,  -0.03741006,\n",
       "         0.033273  ,  -0.14262055,  -0.20836372,  -4.33820223,\n",
       "        -5.23184875,   0.93696247,   7.55267229,  15.63072507,\n",
       "         6.51735286,   3.73865039, -16.69949039,  -9.2605119 ,\n",
       "        -4.7370611 ,  -3.72924353,  -5.44676773, -11.90098459,\n",
       "       -13.45243615,   9.24198044,  -1.31177346,  18.64109989,\n",
       "         2.60234292,  -0.32270511,  -4.11428686,  -9.15109346,\n",
       "         9.53488811,   1.83966452,  -7.47520429,  -1.43406069,\n",
       "        13.2923918 ,  -0.68670349,   7.14739839,   3.30471794,\n",
       "         8.17986006, -23.08494517,  -2.36385355,   2.79086691,\n",
       "        -6.39585577,   8.62692903,  -7.98300569,  30.14371583,\n",
       "         8.85228233,  -7.20660073,   2.16163563,  -6.4745732 ,\n",
       "        -2.33856445])"
      ]
     },
     "execution_count": 48,
     "metadata": {},
     "output_type": "execute_result"
    }
   ],
   "source": [
    "lr.coef_"
   ]
  },
  {
   "cell_type": "code",
   "execution_count": 49,
   "metadata": {},
   "outputs": [],
   "source": [
    "# use stats model to get a better idea of the coefficients\n",
    "X_train = sm.add_constant(X_train)\n",
    "ols = sm.OLS(y_train, X_train)\n",
    "results = ols.fit()"
   ]
  },
  {
   "cell_type": "code",
   "execution_count": 50,
   "metadata": {},
   "outputs": [
    {
     "name": "stdout",
     "output_type": "stream",
     "text": [
      "                             OLS Regression Results                            \n",
      "===============================================================================\n",
      "Dep. Variable:     combined_mean_score   R-squared:                       0.850\n",
      "Model:                             OLS   Adj. R-squared:                  0.824\n",
      "Method:                  Least Squares   F-statistic:                     32.80\n",
      "Date:                 Tue, 17 Nov 2020   Prob (F-statistic):           3.42e-98\n",
      "Time:                         09:48:06   Log-Likelihood:                -1019.6\n",
      "No. Observations:                  361   AIC:                             2147.\n",
      "Df Residuals:                      307   BIC:                             2357.\n",
      "Df Model:                           53                                         \n",
      "Covariance Type:             nonrobust                                         \n",
      "==============================================================================\n",
      "                 coef    std err          t      P>|t|      [0.025      0.975]\n",
      "------------------------------------------------------------------------------\n",
      "const        571.9027     14.685     38.943      0.000     543.006     600.800\n",
      "1a            -0.0884      0.122     -0.723      0.471      -0.329       0.152\n",
      "1b             0.1333      0.103      1.295      0.196      -0.069       0.336\n",
      "1c             0.1012      0.107      0.943      0.347      -0.110       0.313\n",
      "1d            -0.1163      0.102     -1.145      0.253      -0.316       0.084\n",
      "1e             0.1067      0.040      2.655      0.008       0.028       0.186\n",
      "1f             0.1036      0.091      1.133      0.258      -0.076       0.284\n",
      "1g            -0.1239      0.108     -1.149      0.251      -0.336       0.088\n",
      "1h            -0.0374      0.135     -0.278      0.781      -0.303       0.228\n",
      "1i             0.0333      0.136      0.245      0.807      -0.234       0.301\n",
      "1j            -0.1426      0.120     -1.192      0.234      -0.378       0.093\n",
      "1k            -0.2084      0.116     -1.791      0.074      -0.437       0.021\n",
      "2a            -4.3382      4.762     -0.911      0.363     -13.708       5.032\n",
      "2b            -5.2318      4.321     -1.211      0.227     -13.735       3.272\n",
      "2c             0.9370      4.801      0.195      0.845      -8.511      10.385\n",
      "2d             7.5527      3.441      2.195      0.029       0.782      14.323\n",
      "2e            15.6307      4.631      3.375      0.001       6.517      24.744\n",
      "3a             6.5174      4.160      1.567      0.118      -1.669      14.704\n",
      "3b             3.7387      4.350      0.860      0.391      -4.820      12.298\n",
      "3c           -16.6995      4.818     -3.466      0.001     -26.179      -7.220\n",
      "3d            -9.2605      4.548     -2.036      0.043     -18.209      -0.312\n",
      "3e            -4.7371      2.577     -1.838      0.067      -9.808       0.334\n",
      "4a            -3.7292      5.160     -0.723      0.470     -13.882       6.423\n",
      "4b            -5.4468      3.176     -1.715      0.087     -11.696       0.802\n",
      "4c           -11.9010      4.539     -2.622      0.009     -20.832      -2.970\n",
      "4d           -13.4524      3.825     -3.517      0.001     -20.980      -5.925\n",
      "4e             9.2420      4.588      2.015      0.045       0.215      18.269\n",
      "4f            -1.3118      5.002     -0.262      0.793     -11.155       8.531\n",
      "4g            18.6411      4.536      4.110      0.000       9.716      27.566\n",
      "4h             2.6023      3.436      0.757      0.449      -4.159       9.364\n",
      "4i            -0.3227      3.077     -0.105      0.917      -6.377       5.731\n",
      "5a            -4.1143      3.803     -1.082      0.280     -11.597       3.368\n",
      "5b            -9.1511      4.352     -2.103      0.036     -17.715      -0.587\n",
      "5c             9.5349      4.609      2.069      0.039       0.466      18.603\n",
      "5d             1.8397      1.852      0.993      0.321      -1.804       5.484\n",
      "5e            -7.4752      3.446     -2.169      0.031     -14.256      -0.694\n",
      "6a            -1.4341      5.680     -0.252      0.801     -12.611       9.743\n",
      "6b            13.2924      5.704      2.330      0.020       2.069      24.516\n",
      "6c            -0.6867      6.484     -0.106      0.916     -13.446      12.073\n",
      "6d             7.1474      5.965      1.198      0.232      -4.590      18.884\n",
      "6e             3.3047      4.552      0.726      0.468      -5.652      12.262\n",
      "6f             8.1799      4.043      2.023      0.044       0.224      16.135\n",
      "6g           -23.0849      6.199     -3.724      0.000     -35.283     -10.887\n",
      "6h            -2.3639      3.380     -0.699      0.485      -9.015       4.287\n",
      "6i             2.7909      4.732      0.590      0.556      -6.521      12.103\n",
      "7a            -6.3959      3.730     -1.715      0.087     -13.736       0.944\n",
      "7b             8.6269      4.685      1.842      0.067      -0.591      17.845\n",
      "7c            -7.9830      3.862     -2.067      0.040     -15.583      -0.383\n",
      "7d            30.1437      4.828      6.243      0.000      20.643      39.644\n",
      "8a             8.8523      2.387      3.708      0.000       4.155      13.550\n",
      "8f            -7.2066      1.632     -4.415      0.000     -10.419      -3.994\n",
      "8g             2.1616      1.669      1.295      0.196      -1.122       5.445\n",
      "8h            -6.4746      1.959     -3.305      0.001     -10.330      -2.620\n",
      "9b            -2.3386      2.328     -1.004      0.316      -6.920       2.243\n",
      "==============================================================================\n",
      "Omnibus:                        2.352   Durbin-Watson:                   2.098\n",
      "Prob(Omnibus):                  0.308   Jarque-Bera (JB):                2.243\n",
      "Skew:                           0.193   Prob(JB):                        0.326\n",
      "Kurtosis:                       3.018   Cond. No.                     3.48e+03\n",
      "==============================================================================\n",
      "\n",
      "Notes:\n",
      "[1] Standard Errors assume that the covariance matrix of the errors is correctly specified.\n",
      "[2] The condition number is large, 3.48e+03. This might indicate that there are\n",
      "strong multicollinearity or other numerical problems.\n"
     ]
    }
   ],
   "source": [
    "print(results.summary())"
   ]
  },
  {
   "cell_type": "code",
   "execution_count": 51,
   "metadata": {},
   "outputs": [],
   "source": [
    "# from https://stackoverflow.com/questions/47388258/how-to-extract-the-regression-coefficient-from-statsmodels-api\n",
    "df = pd.read_html(results.summary().tables[1].as_html(),header=0,index_col=0)[0]"
   ]
  },
  {
   "cell_type": "code",
   "execution_count": 52,
   "metadata": {},
   "outputs": [
    {
     "data": {
      "text/html": [
       "<div>\n",
       "<style scoped>\n",
       "    .dataframe tbody tr th:only-of-type {\n",
       "        vertical-align: middle;\n",
       "    }\n",
       "\n",
       "    .dataframe tbody tr th {\n",
       "        vertical-align: top;\n",
       "    }\n",
       "\n",
       "    .dataframe thead th {\n",
       "        text-align: right;\n",
       "    }\n",
       "</style>\n",
       "<table border=\"1\" class=\"dataframe\">\n",
       "  <thead>\n",
       "    <tr style=\"text-align: right;\">\n",
       "      <th></th>\n",
       "      <th>coef</th>\n",
       "      <th>std err</th>\n",
       "      <th>t</th>\n",
       "      <th>P&gt;|t|</th>\n",
       "      <th>[0.025</th>\n",
       "      <th>0.975]</th>\n",
       "    </tr>\n",
       "  </thead>\n",
       "  <tbody>\n",
       "    <tr>\n",
       "      <th>const</th>\n",
       "      <td>571.9027</td>\n",
       "      <td>14.685</td>\n",
       "      <td>38.943</td>\n",
       "      <td>0.000</td>\n",
       "      <td>543.006</td>\n",
       "      <td>600.800</td>\n",
       "    </tr>\n",
       "    <tr>\n",
       "      <th>1a</th>\n",
       "      <td>-0.0884</td>\n",
       "      <td>0.122</td>\n",
       "      <td>-0.723</td>\n",
       "      <td>0.471</td>\n",
       "      <td>-0.329</td>\n",
       "      <td>0.152</td>\n",
       "    </tr>\n",
       "  </tbody>\n",
       "</table>\n",
       "</div>"
      ],
      "text/plain": [
       "           coef  std err       t  P>|t|   [0.025   0.975]\n",
       "const  571.9027   14.685  38.943  0.000  543.006  600.800\n",
       "1a      -0.0884    0.122  -0.723  0.471   -0.329    0.152"
      ]
     },
     "execution_count": 52,
     "metadata": {},
     "output_type": "execute_result"
    }
   ],
   "source": [
    "df.head(2)"
   ]
  },
  {
   "cell_type": "code",
   "execution_count": 53,
   "metadata": {},
   "outputs": [
    {
     "data": {
      "image/png": "[encoded data removed]",
      "text/plain": [
       "<Figure size 864x360 with 1 Axes>"
      ]
     },
     "metadata": {
      "needs_background": "light"
     },
     "output_type": "display_data"
    }
   ],
   "source": [
    "coefs = df.loc['1a':, 'coef']\n",
    "plt.figure(figsize=(12, 5))\n",
    "plt.plot(coefs, 'o')\n",
    "plt.axhline(y=0, ls='--')\n",
    "plt.title('Coefficients');"
   ]
  },
  {
   "cell_type": "code",
   "execution_count": 54,
   "metadata": {},
   "outputs": [],
   "source": [
    "coefs = coefs.sort_values(ascending=False)[:10]"
   ]
  },
  {
   "cell_type": "code",
   "execution_count": 55,
   "metadata": {},
   "outputs": [
    {
     "data": {
      "image/png": "[encoded data removed]",
      "text/plain": [
       "<Figure size 432x288 with 1 Axes>"
      ]
     },
     "metadata": {
      "needs_background": "light"
     },
     "output_type": "display_data"
    }
   ],
   "source": [
    "coefs = pd.DataFrame(coefs, columns=['coef'])\n",
    "sns.barplot(x=coefs.index, y=coefs['coef'])\n",
    "plt.title('Top 10 Important Questions')\n",
    "plt.ylabel('Coefficients')\n",
    "plt.xlabel('Question')\n",
    "plt.savefig('../assets/top10_important_questions.png', bbox_inches='tight');"
   ]
  },
  {
   "cell_type": "code",
   "execution_count": 56,
   "metadata": {},
   "outputs": [
    {
     "data": {
      "text/plain": [
       "RidgeCV(alphas=array([1.e-02, 1.e-01, 1.e+00, 1.e+01, 1.e+02]))"
      ]
     },
     "execution_count": 56,
     "metadata": {},
     "output_type": "execute_result"
    }
   ],
   "source": [
    "# do a ridge model to see if I can decifer something\n",
    "\n",
    "# first scale data\n",
    "ss = StandardScaler()\n",
    "X_train = X_train.drop(columns=['const'])\n",
    "X_train_ss = ss.fit_transform(X_train, y_train)\n",
    "X_test_ss = ss.transform(X_test)\n",
    "\n",
    "# ridgecv\n",
    "ridgecv = RidgeCV(alphas=(0.01, 0.1, 1.0, 10.0, 100))\n",
    "ridgecv.fit(X_train_ss, y_train)"
   ]
  },
  {
   "cell_type": "code",
   "execution_count": 57,
   "metadata": {},
   "outputs": [
    {
     "data": {
      "text/plain": [
       "10.0"
      ]
     },
     "execution_count": 57,
     "metadata": {},
     "output_type": "execute_result"
    }
   ],
   "source": [
    "ridgecv.alpha_"
   ]
  },
  {
   "cell_type": "code",
   "execution_count": 58,
   "metadata": {},
   "outputs": [],
   "source": [
    "ridge_coefs = ridgecv.coef_"
   ]
  },
  {
   "cell_type": "code",
   "execution_count": 59,
   "metadata": {},
   "outputs": [
    {
     "data": {
      "image/png": "[encoded data removed]",
      "text/plain": [
       "<Figure size 864x360 with 1 Axes>"
      ]
     },
     "metadata": {
      "needs_background": "light"
     },
     "output_type": "display_data"
    }
   ],
   "source": [
    "plt.figure(figsize=(12, 5))\n",
    "plt.plot(df.index[1:], ridge_coefs, 'o')\n",
    "plt.axhline(y=0, ls='--')\n",
    "plt.title('Ridge Coefficients');"
   ]
  },
  {
   "cell_type": "code",
   "execution_count": 60,
   "metadata": {},
   "outputs": [
    {
     "data": {
      "text/plain": [
       "array([0.73243844, 0.75323143, 0.76617101, 0.79974492, 0.82500539])"
      ]
     },
     "execution_count": 60,
     "metadata": {},
     "output_type": "execute_result"
    }
   ],
   "source": [
    "cross_val_score(ridgecv, X_train, y_train)"
   ]
  },
  {
   "cell_type": "code",
   "execution_count": 61,
   "metadata": {},
   "outputs": [
    {
     "data": {
      "text/plain": [
       "0.7966557571142232"
      ]
     },
     "execution_count": 61,
     "metadata": {},
     "output_type": "execute_result"
    }
   ],
   "source": [
    "ridge_score = ridgecv.score(X_test_ss, y_test)\n",
    "ridge_score"
   ]
  },
  {
   "cell_type": "code",
   "execution_count": 62,
   "metadata": {},
   "outputs": [],
   "source": [
    "preds = ridgecv.predict(X_test_ss)"
   ]
  },
  {
   "cell_type": "code",
   "execution_count": 63,
   "metadata": {},
   "outputs": [
    {
     "data": {
      "text/plain": [
       "0.6358013560254744"
      ]
     },
     "execution_count": 63,
     "metadata": {},
     "output_type": "execute_result"
    }
   ],
   "source": [
    "r2_adj = adj_r2(y_test, preds, len(X_test.columns))\n",
    "r2_adj"
   ]
  },
  {
   "cell_type": "code",
   "execution_count": 64,
   "metadata": {},
   "outputs": [
    {
     "data": {
      "text/plain": [
       "22.167100404160436"
      ]
     },
     "execution_count": 64,
     "metadata": {},
     "output_type": "execute_result"
    }
   ],
   "source": [
    "mse = mean_squared_error(y_test, preds)\n",
    "mse"
   ]
  },
  {
   "cell_type": "code",
   "execution_count": 65,
   "metadata": {},
   "outputs": [],
   "source": [
    "scores_d = {'model': 'ridge', 'r2': ridge_score, 'adjusted_r2': r2_adj, 'mse': mse}\n",
    "scores = scores.append(scores_d, ignore_index=True)"
   ]
  },
  {
   "cell_type": "code",
   "execution_count": 66,
   "metadata": {},
   "outputs": [],
   "source": [
    "coefs = pd.DataFrame(ridge_coefs, df.index[1:])\n",
    "coefs.columns = ['coefs']"
   ]
  },
  {
   "cell_type": "code",
   "execution_count": 67,
   "metadata": {},
   "outputs": [
    {
     "data": {
      "text/html": [
       "<div>\n",
       "<style scoped>\n",
       "    .dataframe tbody tr th:only-of-type {\n",
       "        vertical-align: middle;\n",
       "    }\n",
       "\n",
       "    .dataframe tbody tr th {\n",
       "        vertical-align: top;\n",
       "    }\n",
       "\n",
       "    .dataframe thead th {\n",
       "        text-align: right;\n",
       "    }\n",
       "</style>\n",
       "<table border=\"1\" class=\"dataframe\">\n",
       "  <thead>\n",
       "    <tr style=\"text-align: right;\">\n",
       "      <th></th>\n",
       "      <th>coefs</th>\n",
       "    </tr>\n",
       "  </thead>\n",
       "  <tbody>\n",
       "    <tr>\n",
       "      <th>7d</th>\n",
       "      <td>4.316199</td>\n",
       "    </tr>\n",
       "    <tr>\n",
       "      <th>4g</th>\n",
       "      <td>2.657815</td>\n",
       "    </tr>\n",
       "    <tr>\n",
       "      <th>2e</th>\n",
       "      <td>2.104479</td>\n",
       "    </tr>\n",
       "    <tr>\n",
       "      <th>6b</th>\n",
       "      <td>1.832048</td>\n",
       "    </tr>\n",
       "    <tr>\n",
       "      <th>8a</th>\n",
       "      <td>1.608968</td>\n",
       "    </tr>\n",
       "    <tr>\n",
       "      <th>2d</th>\n",
       "      <td>1.332623</td>\n",
       "    </tr>\n",
       "    <tr>\n",
       "      <th>4e</th>\n",
       "      <td>1.214853</td>\n",
       "    </tr>\n",
       "    <tr>\n",
       "      <th>6f</th>\n",
       "      <td>1.177127</td>\n",
       "    </tr>\n",
       "    <tr>\n",
       "      <th>7b</th>\n",
       "      <td>1.097912</td>\n",
       "    </tr>\n",
       "    <tr>\n",
       "      <th>5c</th>\n",
       "      <td>1.061895</td>\n",
       "    </tr>\n",
       "    <tr>\n",
       "      <th>6d</th>\n",
       "      <td>1.025931</td>\n",
       "    </tr>\n",
       "    <tr>\n",
       "      <th>3a</th>\n",
       "      <td>0.902742</td>\n",
       "    </tr>\n",
       "    <tr>\n",
       "      <th>1e</th>\n",
       "      <td>0.895213</td>\n",
       "    </tr>\n",
       "    <tr>\n",
       "      <th>8g</th>\n",
       "      <td>0.645353</td>\n",
       "    </tr>\n",
       "    <tr>\n",
       "      <th>1f</th>\n",
       "      <td>0.596349</td>\n",
       "    </tr>\n",
       "    <tr>\n",
       "      <th>5d</th>\n",
       "      <td>0.385130</td>\n",
       "    </tr>\n",
       "    <tr>\n",
       "      <th>4h</th>\n",
       "      <td>0.301105</td>\n",
       "    </tr>\n",
       "    <tr>\n",
       "      <th>1b</th>\n",
       "      <td>0.267756</td>\n",
       "    </tr>\n",
       "    <tr>\n",
       "      <th>1i</th>\n",
       "      <td>0.243126</td>\n",
       "    </tr>\n",
       "    <tr>\n",
       "      <th>6e</th>\n",
       "      <td>0.205972</td>\n",
       "    </tr>\n",
       "    <tr>\n",
       "      <th>1c</th>\n",
       "      <td>0.177561</td>\n",
       "    </tr>\n",
       "    <tr>\n",
       "      <th>6i</th>\n",
       "      <td>0.128890</td>\n",
       "    </tr>\n",
       "    <tr>\n",
       "      <th>2c</th>\n",
       "      <td>0.127849</td>\n",
       "    </tr>\n",
       "    <tr>\n",
       "      <th>3b</th>\n",
       "      <td>0.096400</td>\n",
       "    </tr>\n",
       "    <tr>\n",
       "      <th>4a</th>\n",
       "      <td>0.037525</td>\n",
       "    </tr>\n",
       "    <tr>\n",
       "      <th>6c</th>\n",
       "      <td>-0.009129</td>\n",
       "    </tr>\n",
       "    <tr>\n",
       "      <th>4f</th>\n",
       "      <td>-0.153584</td>\n",
       "    </tr>\n",
       "    <tr>\n",
       "      <th>1h</th>\n",
       "      <td>-0.251398</td>\n",
       "    </tr>\n",
       "    <tr>\n",
       "      <th>4i</th>\n",
       "      <td>-0.257221</td>\n",
       "    </tr>\n",
       "    <tr>\n",
       "      <th>6a</th>\n",
       "      <td>-0.274047</td>\n",
       "    </tr>\n",
       "    <tr>\n",
       "      <th>1d</th>\n",
       "      <td>-0.366779</td>\n",
       "    </tr>\n",
       "    <tr>\n",
       "      <th>1j</th>\n",
       "      <td>-0.385486</td>\n",
       "    </tr>\n",
       "    <tr>\n",
       "      <th>6h</th>\n",
       "      <td>-0.399875</td>\n",
       "    </tr>\n",
       "    <tr>\n",
       "      <th>1a</th>\n",
       "      <td>-0.542157</td>\n",
       "    </tr>\n",
       "    <tr>\n",
       "      <th>9b</th>\n",
       "      <td>-0.558135</td>\n",
       "    </tr>\n",
       "    <tr>\n",
       "      <th>1g</th>\n",
       "      <td>-0.562350</td>\n",
       "    </tr>\n",
       "    <tr>\n",
       "      <th>5a</th>\n",
       "      <td>-0.624402</td>\n",
       "    </tr>\n",
       "    <tr>\n",
       "      <th>7a</th>\n",
       "      <td>-0.656911</td>\n",
       "    </tr>\n",
       "    <tr>\n",
       "      <th>3e</th>\n",
       "      <td>-0.750631</td>\n",
       "    </tr>\n",
       "    <tr>\n",
       "      <th>2a</th>\n",
       "      <td>-0.813090</td>\n",
       "    </tr>\n",
       "    <tr>\n",
       "      <th>2b</th>\n",
       "      <td>-0.872744</td>\n",
       "    </tr>\n",
       "    <tr>\n",
       "      <th>1k</th>\n",
       "      <td>-0.894088</td>\n",
       "    </tr>\n",
       "    <tr>\n",
       "      <th>4b</th>\n",
       "      <td>-0.948634</td>\n",
       "    </tr>\n",
       "    <tr>\n",
       "      <th>5b</th>\n",
       "      <td>-0.991404</td>\n",
       "    </tr>\n",
       "    <tr>\n",
       "      <th>7c</th>\n",
       "      <td>-1.013701</td>\n",
       "    </tr>\n",
       "    <tr>\n",
       "      <th>5e</th>\n",
       "      <td>-1.198334</td>\n",
       "    </tr>\n",
       "    <tr>\n",
       "      <th>3d</th>\n",
       "      <td>-1.278660</td>\n",
       "    </tr>\n",
       "    <tr>\n",
       "      <th>4c</th>\n",
       "      <td>-1.532636</td>\n",
       "    </tr>\n",
       "    <tr>\n",
       "      <th>8h</th>\n",
       "      <td>-1.986261</td>\n",
       "    </tr>\n",
       "    <tr>\n",
       "      <th>4d</th>\n",
       "      <td>-2.105062</td>\n",
       "    </tr>\n",
       "    <tr>\n",
       "      <th>8f</th>\n",
       "      <td>-2.562556</td>\n",
       "    </tr>\n",
       "    <tr>\n",
       "      <th>3c</th>\n",
       "      <td>-2.648257</td>\n",
       "    </tr>\n",
       "    <tr>\n",
       "      <th>6g</th>\n",
       "      <td>-2.842892</td>\n",
       "    </tr>\n",
       "  </tbody>\n",
       "</table>\n",
       "</div>"
      ],
      "text/plain": [
       "       coefs\n",
       "7d  4.316199\n",
       "4g  2.657815\n",
       "2e  2.104479\n",
       "6b  1.832048\n",
       "8a  1.608968\n",
       "2d  1.332623\n",
       "4e  1.214853\n",
       "6f  1.177127\n",
       "7b  1.097912\n",
       "5c  1.061895\n",
       "6d  1.025931\n",
       "3a  0.902742\n",
       "1e  0.895213\n",
       "8g  0.645353\n",
       "1f  0.596349\n",
       "5d  0.385130\n",
       "4h  0.301105\n",
       "1b  0.267756\n",
       "1i  0.243126\n",
       "6e  0.205972\n",
       "1c  0.177561\n",
       "6i  0.128890\n",
       "2c  0.127849\n",
       "3b  0.096400\n",
       "4a  0.037525\n",
       "6c -0.009129\n",
       "4f -0.153584\n",
       "1h -0.251398\n",
       "4i -0.257221\n",
       "6a -0.274047\n",
       "1d -0.366779\n",
       "1j -0.385486\n",
       "6h -0.399875\n",
       "1a -0.542157\n",
       "9b -0.558135\n",
       "1g -0.562350\n",
       "5a -0.624402\n",
       "7a -0.656911\n",
       "3e -0.750631\n",
       "2a -0.813090\n",
       "2b -0.872744\n",
       "1k -0.894088\n",
       "4b -0.948634\n",
       "5b -0.991404\n",
       "7c -1.013701\n",
       "5e -1.198334\n",
       "3d -1.278660\n",
       "4c -1.532636\n",
       "8h -1.986261\n",
       "4d -2.105062\n",
       "8f -2.562556\n",
       "3c -2.648257\n",
       "6g -2.842892"
      ]
     },
     "execution_count": 67,
     "metadata": {},
     "output_type": "execute_result"
    }
   ],
   "source": [
    "coefs.sort_values(by='coefs', ascending=False)"
   ]
  },
  {
   "cell_type": "code",
   "execution_count": 68,
   "metadata": {},
   "outputs": [],
   "source": [
    "# I want to see what happens when I use only the top 3 questons"
   ]
  },
  {
   "cell_type": "code",
   "execution_count": 69,
   "metadata": {},
   "outputs": [],
   "source": [
    "top3 = stu_19[['7d', '4g', '2e', 'combined_mean_score']]"
   ]
  },
  {
   "cell_type": "code",
   "execution_count": 70,
   "metadata": {},
   "outputs": [
    {
     "data": {
      "image/png": "[encoded data removed]",
      "text/plain": [
       "<Figure size 720x720 with 20 Axes>"
      ]
     },
     "metadata": {
      "needs_background": "light"
     },
     "output_type": "display_data"
    }
   ],
   "source": [
    "sns.pairplot(top3);"
   ]
  },
  {
   "cell_type": "code",
   "execution_count": 71,
   "metadata": {},
   "outputs": [],
   "source": [
    "X = top3.iloc[:, :-1]\n",
    "y = top3[['combined_mean_score']]\n",
    "# train test split\n",
    "X_train, X_test, y_train, y_test = train_test_split(X,y)"
   ]
  },
  {
   "cell_type": "code",
   "execution_count": 72,
   "metadata": {},
   "outputs": [
    {
     "data": {
      "text/plain": [
       "LinearRegression()"
      ]
     },
     "execution_count": 72,
     "metadata": {},
     "output_type": "execute_result"
    }
   ],
   "source": [
    "# the questions are all collinear with each other, but I will check out how much these have in predicting \n",
    "lr = LinearRegression()\n",
    "lr.fit(X_train, y_train)"
   ]
  },
  {
   "cell_type": "code",
   "execution_count": 73,
   "metadata": {},
   "outputs": [
    {
     "data": {
      "text/plain": [
       "array([0.38451144, 0.38331794, 0.32793807, 0.41856629, 0.49135617])"
      ]
     },
     "execution_count": 73,
     "metadata": {},
     "output_type": "execute_result"
    }
   ],
   "source": [
    "cross_val_score(lr, X_train, y_train)"
   ]
  },
  {
   "cell_type": "code",
   "execution_count": 74,
   "metadata": {},
   "outputs": [
    {
     "data": {
      "text/plain": [
       "0.3757666240890173"
      ]
     },
     "execution_count": 74,
     "metadata": {},
     "output_type": "execute_result"
    }
   ],
   "source": [
    "top3_score = lr.score(X_test, y_test)\n",
    "top3_score"
   ]
  },
  {
   "cell_type": "code",
   "execution_count": 75,
   "metadata": {},
   "outputs": [
    {
     "data": {
      "text/plain": [
       "75.96556501571999"
      ]
     },
     "execution_count": 75,
     "metadata": {},
     "output_type": "execute_result"
    }
   ],
   "source": [
    "preds = lr.predict(X_test)\n",
    "mse = mean_squared_error(y_test, preds)\n",
    "mse"
   ]
  },
  {
   "cell_type": "code",
   "execution_count": 76,
   "metadata": {},
   "outputs": [
    {
     "data": {
      "text/plain": [
       "0.3597606400912998"
      ]
     },
     "execution_count": 76,
     "metadata": {},
     "output_type": "execute_result"
    }
   ],
   "source": [
    "r2_adj = adj_r2(y_test, preds, len(X.columns))\n",
    "r2_adj"
   ]
  },
  {
   "cell_type": "code",
   "execution_count": 77,
   "metadata": {},
   "outputs": [],
   "source": [
    "scores_d = {'model': 'top3_linear', 'r2': top3_score, 'adjusted_r2': r2_adj, 'mse': mse}\n",
    "scores = scores.append(scores_d, ignore_index=True)"
   ]
  },
  {
   "cell_type": "markdown",
   "metadata": {},
   "source": [
    "These 3 questions have pretty strong predictive power with R2 of around 0.36. Let me start adding more features with this. Before I do that, I want to see indivial contribution within a linear model. "
   ]
  },
  {
   "cell_type": "code",
   "execution_count": 78,
   "metadata": {},
   "outputs": [
    {
     "data": {
      "text/plain": [
       "LinearRegression()"
      ]
     },
     "execution_count": 78,
     "metadata": {},
     "output_type": "execute_result"
    }
   ],
   "source": [
    "# look at question 7d. 'I feel safe in my classes at this school.'\n",
    "X7 = stu_19[['7d']]\n",
    "y = stu_19['combined_mean_score']\n",
    "\n",
    "# train test split\n",
    "X7_train, X7_test, y_train, y_test = train_test_split(X7, y, random_state=77)\n",
    "\n",
    "# model\n",
    "lr_7d = LinearRegression()\n",
    "lr_7d.fit(X7_train, y_train)"
   ]
  },
  {
   "cell_type": "code",
   "execution_count": 79,
   "metadata": {},
   "outputs": [
    {
     "data": {
      "text/plain": [
       "array([0.25325876, 0.19497905, 0.21518846, 0.26292154, 0.2325077 ])"
      ]
     },
     "execution_count": 79,
     "metadata": {},
     "output_type": "execute_result"
    }
   ],
   "source": [
    "cross_val_score(lr_7d, X7_train, y_train)"
   ]
  },
  {
   "cell_type": "code",
   "execution_count": 80,
   "metadata": {},
   "outputs": [
    {
     "data": {
      "text/plain": [
       "0.242164578748704"
      ]
     },
     "execution_count": 80,
     "metadata": {},
     "output_type": "execute_result"
    }
   ],
   "source": [
    "lr_7d.score(X7_test, y_test)"
   ]
  },
  {
   "cell_type": "code",
   "execution_count": 81,
   "metadata": {},
   "outputs": [
    {
     "data": {
      "text/plain": [
       "508.5171131191498"
      ]
     },
     "execution_count": 81,
     "metadata": {},
     "output_type": "execute_result"
    }
   ],
   "source": [
    "lr_7d.intercept_"
   ]
  },
  {
   "cell_type": "code",
   "execution_count": 82,
   "metadata": {},
   "outputs": [
    {
     "data": {
      "text/plain": [
       "array([27.36098184])"
      ]
     },
     "execution_count": 82,
     "metadata": {},
     "output_type": "execute_result"
    }
   ],
   "source": [
    "lr_7d.coef_"
   ]
  },
  {
   "cell_type": "markdown",
   "metadata": {},
   "source": [
    "A little less than a quarter of the predictions are explained by this one question. "
   ]
  },
  {
   "cell_type": "code",
   "execution_count": 83,
   "metadata": {},
   "outputs": [
    {
     "data": {
      "text/plain": [
       "LinearRegression()"
      ]
     },
     "execution_count": 83,
     "metadata": {},
     "output_type": "execute_result"
    }
   ],
   "source": [
    "# look at question 4g. 'My classes at this school really make me think critically.'\n",
    "X4 = stu_19[['4g']]\n",
    "y = stu_19['combined_mean_score']\n",
    "\n",
    "# train test split\n",
    "X4_train, X4_test, y_train, y_test = train_test_split(X4, y, random_state=77)\n",
    "\n",
    "# model\n",
    "lr_4 = LinearRegression()\n",
    "lr_4.fit(X4_train, y_train)"
   ]
  },
  {
   "cell_type": "code",
   "execution_count": 84,
   "metadata": {},
   "outputs": [
    {
     "data": {
      "text/plain": [
       "array([0.05073491, 0.0131549 , 0.05070348, 0.06149044, 0.03324041])"
      ]
     },
     "execution_count": 84,
     "metadata": {},
     "output_type": "execute_result"
    }
   ],
   "source": [
    "cross_val_score(lr_4, X4_train, y_train)"
   ]
  },
  {
   "cell_type": "code",
   "execution_count": 85,
   "metadata": {},
   "outputs": [
    {
     "data": {
      "text/plain": [
       "0.09321760523660283"
      ]
     },
     "execution_count": 85,
     "metadata": {},
     "output_type": "execute_result"
    }
   ],
   "source": [
    "lr_4.score(X4_test, y_test)"
   ]
  },
  {
   "cell_type": "markdown",
   "metadata": {},
   "source": [
    "Question 4d alone does not have much of a predictive power compared here."
   ]
  },
  {
   "cell_type": "code",
   "execution_count": 86,
   "metadata": {},
   "outputs": [
    {
     "data": {
      "text/plain": [
       "LinearRegression()"
      ]
     },
     "execution_count": 86,
     "metadata": {},
     "output_type": "execute_result"
    }
   ],
   "source": [
    "# look at question 2e. 'I know what my teacher wants me to learn in class.'\n",
    "X2 = stu_19[['2e']]\n",
    "y = stu_19['combined_mean_score']\n",
    "\n",
    "# train test split\n",
    "X2_train, X2_test, y_train, y_test = train_test_split(X2, y, random_state=77)\n",
    "\n",
    "# model\n",
    "lr_2 = LinearRegression()\n",
    "lr_2.fit(X2_train, y_train)"
   ]
  },
  {
   "cell_type": "code",
   "execution_count": 87,
   "metadata": {},
   "outputs": [
    {
     "data": {
      "text/plain": [
       "array([ 0.00623215,  0.00313522, -0.01407242,  0.00504959,  0.01620767])"
      ]
     },
     "execution_count": 87,
     "metadata": {},
     "output_type": "execute_result"
    }
   ],
   "source": [
    "cross_val_score(lr_2, X2_train, y_train)"
   ]
  },
  {
   "cell_type": "markdown",
   "metadata": {},
   "source": [
    "Neighter question 4g nor 2e alone is really driving the prediction on student scores."
   ]
  },
  {
   "cell_type": "markdown",
   "metadata": {},
   "source": [
    "### Feature selection with SelectKBest"
   ]
  },
  {
   "cell_type": "code",
   "execution_count": 88,
   "metadata": {},
   "outputs": [],
   "source": [
    "X = stu_19.iloc[:, 3:-1]\n",
    "y = stu_19['combined_mean_score']"
   ]
  },
  {
   "cell_type": "code",
   "execution_count": 89,
   "metadata": {},
   "outputs": [],
   "source": [
    "kbest = SelectKBest(f_regression, k=10)\n",
    "X_new = kbest.fit_transform(X, y)"
   ]
  },
  {
   "cell_type": "code",
   "execution_count": 90,
   "metadata": {},
   "outputs": [
    {
     "data": {
      "text/plain": [
       "(482, 10)"
      ]
     },
     "execution_count": 90,
     "metadata": {},
     "output_type": "execute_result"
    }
   ],
   "source": [
    "X_new.shape"
   ]
  },
  {
   "cell_type": "code",
   "execution_count": 91,
   "metadata": {},
   "outputs": [
    {
     "data": {
      "text/plain": [
       "Index(['1a', '1g', '1h', '7a', '7b', '7c', '7d', '8a', '8f', '8h'], dtype='object')"
      ]
     },
     "execution_count": 91,
     "metadata": {},
     "output_type": "execute_result"
    }
   ],
   "source": [
    "# which columns?\n",
    "best10_cols = X.columns[kbest.get_support()]\n",
    "best10_cols"
   ]
  },
  {
   "cell_type": "code",
   "execution_count": 92,
   "metadata": {},
   "outputs": [],
   "source": [
    "# train test split\n",
    "X_train, X_test, y_train, y_test = train_test_split(X_new, y, random_state=77)"
   ]
  },
  {
   "cell_type": "code",
   "execution_count": 93,
   "metadata": {},
   "outputs": [
    {
     "data": {
      "text/plain": [
       "LinearRegression()"
      ]
     },
     "execution_count": 93,
     "metadata": {},
     "output_type": "execute_result"
    }
   ],
   "source": [
    "lr_kbest = LinearRegression()\n",
    "lr_kbest.fit(X_train, y_train)"
   ]
  },
  {
   "cell_type": "code",
   "execution_count": 94,
   "metadata": {},
   "outputs": [
    {
     "data": {
      "text/plain": [
       "array([0.56817567, 0.57361272, 0.543785  , 0.56137906, 0.5984883 ])"
      ]
     },
     "execution_count": 94,
     "metadata": {},
     "output_type": "execute_result"
    }
   ],
   "source": [
    "cross_val_score(lr_kbest, X_train, y_train)"
   ]
  },
  {
   "cell_type": "code",
   "execution_count": 95,
   "metadata": {},
   "outputs": [
    {
     "data": {
      "text/plain": [
       "0.5669710837624804"
      ]
     },
     "execution_count": 95,
     "metadata": {},
     "output_type": "execute_result"
    }
   ],
   "source": [
    "kbest10_score = lr_kbest.score(X_test, y_test)\n",
    "kbest10_score"
   ]
  },
  {
   "cell_type": "code",
   "execution_count": 96,
   "metadata": {},
   "outputs": [],
   "source": [
    "# repeat with top 5 features\n",
    "kbest5 = SelectKBest(f_regression, k=5)\n",
    "X_new5 = kbest5.fit_transform(X, y)"
   ]
  },
  {
   "cell_type": "code",
   "execution_count": 97,
   "metadata": {},
   "outputs": [
    {
     "data": {
      "text/plain": [
       "Index(['1a', '7a', '7d', '8f', '8h'], dtype='object')"
      ]
     },
     "execution_count": 97,
     "metadata": {},
     "output_type": "execute_result"
    }
   ],
   "source": [
    "# which columns\n",
    "X.columns[kbest5.get_support()]"
   ]
  },
  {
   "cell_type": "code",
   "execution_count": 98,
   "metadata": {},
   "outputs": [],
   "source": [
    "# train test split\n",
    "X_train, X_test, y_train, y_test = train_test_split(X_new5, y, random_state=77)"
   ]
  },
  {
   "cell_type": "code",
   "execution_count": 99,
   "metadata": {},
   "outputs": [
    {
     "data": {
      "text/plain": [
       "LinearRegression()"
      ]
     },
     "execution_count": 99,
     "metadata": {},
     "output_type": "execute_result"
    }
   ],
   "source": [
    "lr_kbest5 = LinearRegression()\n",
    "lr_kbest5.fit(X_train, y_train)"
   ]
  },
  {
   "cell_type": "code",
   "execution_count": 100,
   "metadata": {},
   "outputs": [
    {
     "data": {
      "text/plain": [
       "array([0.42948654, 0.35768099, 0.49526396, 0.42089611, 0.3478259 ])"
      ]
     },
     "execution_count": 100,
     "metadata": {},
     "output_type": "execute_result"
    }
   ],
   "source": [
    "cross_val_score(lr_kbest5, X_train, y_train)"
   ]
  },
  {
   "cell_type": "code",
   "execution_count": 101,
   "metadata": {},
   "outputs": [
    {
     "data": {
      "text/plain": [
       "0.4715432507215672"
      ]
     },
     "execution_count": 101,
     "metadata": {},
     "output_type": "execute_result"
    }
   ],
   "source": [
    "lr_kbest5.score(X_test, y_test)"
   ]
  },
  {
   "cell_type": "markdown",
   "metadata": {},
   "source": [
    "### Selecting questions related to how the students perceive safety at school\n",
    "So far many of models are pointing to students perceiving how safe they feel at school are important factors in predicting students test scores. Here, I will test whether these factors alone can have a pretty high predictive power."
   ]
  },
  {
   "cell_type": "code",
   "execution_count": 102,
   "metadata": {},
   "outputs": [],
   "source": [
    "# questions related to safety are 7s and 8s\n",
    "X_safe = X[[column for column in X.columns if (column.startswith('7')) | (column.startswith('8'))]]"
   ]
  },
  {
   "cell_type": "code",
   "execution_count": 103,
   "metadata": {},
   "outputs": [
    {
     "data": {
      "text/html": [
       "<div>\n",
       "<style scoped>\n",
       "    .dataframe tbody tr th:only-of-type {\n",
       "        vertical-align: middle;\n",
       "    }\n",
       "\n",
       "    .dataframe tbody tr th {\n",
       "        vertical-align: top;\n",
       "    }\n",
       "\n",
       "    .dataframe thead th {\n",
       "        text-align: right;\n",
       "    }\n",
       "</style>\n",
       "<table border=\"1\" class=\"dataframe\">\n",
       "  <thead>\n",
       "    <tr style=\"text-align: right;\">\n",
       "      <th></th>\n",
       "      <th>7a</th>\n",
       "      <th>7b</th>\n",
       "      <th>7c</th>\n",
       "      <th>7d</th>\n",
       "      <th>8a</th>\n",
       "      <th>8f</th>\n",
       "      <th>8g</th>\n",
       "      <th>8h</th>\n",
       "    </tr>\n",
       "  </thead>\n",
       "  <tbody>\n",
       "    <tr>\n",
       "      <th>0</th>\n",
       "      <td>2.97</td>\n",
       "      <td>3.09</td>\n",
       "      <td>2.92</td>\n",
       "      <td>3.10</td>\n",
       "      <td>2.89</td>\n",
       "      <td>2.76</td>\n",
       "      <td>1.73</td>\n",
       "      <td>1.80</td>\n",
       "    </tr>\n",
       "    <tr>\n",
       "      <th>1</th>\n",
       "      <td>2.82</td>\n",
       "      <td>3.03</td>\n",
       "      <td>3.01</td>\n",
       "      <td>3.04</td>\n",
       "      <td>2.73</td>\n",
       "      <td>2.67</td>\n",
       "      <td>1.47</td>\n",
       "      <td>1.81</td>\n",
       "    </tr>\n",
       "  </tbody>\n",
       "</table>\n",
       "</div>"
      ],
      "text/plain": [
       "     7a    7b    7c    7d    8a    8f    8g    8h\n",
       "0  2.97  3.09  2.92  3.10  2.89  2.76  1.73  1.80\n",
       "1  2.82  3.03  3.01  3.04  2.73  2.67  1.47  1.81"
      ]
     },
     "execution_count": 103,
     "metadata": {},
     "output_type": "execute_result"
    }
   ],
   "source": [
    "X_safe.head(2)"
   ]
  },
  {
   "cell_type": "code",
   "execution_count": 104,
   "metadata": {},
   "outputs": [
    {
     "data": {
      "text/plain": [
       "(482, 8)"
      ]
     },
     "execution_count": 104,
     "metadata": {},
     "output_type": "execute_result"
    }
   ],
   "source": [
    "X_safe.shape"
   ]
  },
  {
   "cell_type": "code",
   "execution_count": 105,
   "metadata": {},
   "outputs": [
    {
     "data": {
      "text/plain": [
       "LinearRegression()"
      ]
     },
     "execution_count": 105,
     "metadata": {},
     "output_type": "execute_result"
    }
   ],
   "source": [
    "# train test split\n",
    "X_train, X_test, y_train, y_test = train_test_split(X_safe, y, random_state=77)\n",
    "\n",
    "# fit to a linear model\n",
    "lr_safe = LinearRegression()\n",
    "lr_safe.fit(X_train, y_train)"
   ]
  },
  {
   "cell_type": "code",
   "execution_count": 106,
   "metadata": {},
   "outputs": [
    {
     "data": {
      "text/plain": [
       "array([0.61253046, 0.62632586, 0.59047245, 0.58696405, 0.63805881])"
      ]
     },
     "execution_count": 106,
     "metadata": {},
     "output_type": "execute_result"
    }
   ],
   "source": [
    "# cross validate\n",
    "cross_val_score(lr_safe, X_train, y_train)"
   ]
  },
  {
   "cell_type": "code",
   "execution_count": 107,
   "metadata": {},
   "outputs": [
    {
     "data": {
      "text/plain": [
       "0.6360655020838875"
      ]
     },
     "execution_count": 107,
     "metadata": {},
     "output_type": "execute_result"
    }
   ],
   "source": [
    "lr_safe.score(X_train, y_train)"
   ]
  },
  {
   "cell_type": "code",
   "execution_count": 108,
   "metadata": {},
   "outputs": [
    {
     "data": {
      "text/plain": [
       "0.5735614691534445"
      ]
     },
     "execution_count": 108,
     "metadata": {},
     "output_type": "execute_result"
    }
   ],
   "source": [
    "# R2 score\n",
    "safe_lr_score = lr_safe.score(X_test, y_test)\n",
    "safe_lr_score"
   ]
  },
  {
   "cell_type": "code",
   "execution_count": 109,
   "metadata": {},
   "outputs": [],
   "source": [
    "# predictions\n",
    "safe_preds = lr_safe.predict(X_test)"
   ]
  },
  {
   "cell_type": "code",
   "execution_count": 110,
   "metadata": {},
   "outputs": [
    {
     "data": {
      "text/plain": [
       "0.5431015740929763"
      ]
     },
     "execution_count": 110,
     "metadata": {},
     "output_type": "execute_result"
    }
   ],
   "source": [
    "# adjusted R2\n",
    "r2_adj = adj_r2(y_test, safe_preds, 8)\n",
    "r2_adj"
   ]
  },
  {
   "cell_type": "code",
   "execution_count": 111,
   "metadata": {},
   "outputs": [
    {
     "data": {
      "text/plain": [
       "59.272193495431154"
      ]
     },
     "execution_count": 111,
     "metadata": {},
     "output_type": "execute_result"
    }
   ],
   "source": [
    "mse = mean_squared_error(y_test, safe_preds)\n",
    "mse"
   ]
  },
  {
   "cell_type": "code",
   "execution_count": 112,
   "metadata": {},
   "outputs": [],
   "source": [
    "scores_d = {'model': 'safe_lr', 'r2': safe_lr_score, 'adjusted_r2': r2_adj, 'mse': mse}\n",
    "scores = scores.append(scores_d, ignore_index=True)"
   ]
  },
  {
   "cell_type": "markdown",
   "metadata": {},
   "source": [
    "These questions really have strong predictive power with over 0.5 R2 score. Student's perception of safety is really appears really important."
   ]
  },
  {
   "cell_type": "code",
   "execution_count": 113,
   "metadata": {},
   "outputs": [
    {
     "data": {
      "image/png": "[encoded data removed]",
      "text/plain": [
       "<Figure size 576x576 with 9 Axes>"
      ]
     },
     "metadata": {
      "needs_background": "light"
     },
     "output_type": "display_data"
    }
   ],
   "source": [
    "plot_partial_dependence(lr_safe, X_safe, list(X_safe.columns), grid_resolution=20)\n",
    "fig = plt.gcf()\n",
    "fig.set_size_inches(8, 8)\n",
    "fig.suptitle('Partial Dependence of Questions on Students Performance')\n",
    "fig.subplots_adjust(wspace=0.4, hspace=0.3)\n",
    "fig.tight_layout()\n",
    "fig.savefig('../assets/partical_dependence_linear.png', bbox_inches='tight');"
   ]
  },
  {
   "cell_type": "code",
   "execution_count": 116,
   "metadata": {},
   "outputs": [
    {
     "data": {
      "text/html": [
       "<div>\n",
       "<style scoped>\n",
       "    .dataframe tbody tr th:only-of-type {\n",
       "        vertical-align: middle;\n",
       "    }\n",
       "\n",
       "    .dataframe tbody tr th {\n",
       "        vertical-align: top;\n",
       "    }\n",
       "\n",
       "    .dataframe thead th {\n",
       "        text-align: right;\n",
       "    }\n",
       "</style>\n",
       "<table border=\"1\" class=\"dataframe\">\n",
       "  <thead>\n",
       "    <tr style=\"text-align: right;\">\n",
       "      <th></th>\n",
       "      <th>model</th>\n",
       "      <th>r2</th>\n",
       "      <th>adjusted_r2</th>\n",
       "      <th>mse</th>\n",
       "    </tr>\n",
       "  </thead>\n",
       "  <tbody>\n",
       "    <tr>\n",
       "      <th>0</th>\n",
       "      <td>null</td>\n",
       "      <td>-0.005951</td>\n",
       "      <td>-0.947001</td>\n",
       "      <td>139.820626</td>\n",
       "    </tr>\n",
       "    <tr>\n",
       "      <th>1</th>\n",
       "      <td>linear_all</td>\n",
       "      <td>0.805202</td>\n",
       "      <td>0.622972</td>\n",
       "      <td>27.075655</td>\n",
       "    </tr>\n",
       "    <tr>\n",
       "      <th>2</th>\n",
       "      <td>pca_linear</td>\n",
       "      <td>0.704574</td>\n",
       "      <td>0.677717</td>\n",
       "      <td>41.062252</td>\n",
       "    </tr>\n",
       "    <tr>\n",
       "      <th>3</th>\n",
       "      <td>linear_reduced</td>\n",
       "      <td>0.794534</td>\n",
       "      <td>0.632000</td>\n",
       "      <td>22.398452</td>\n",
       "    </tr>\n",
       "    <tr>\n",
       "      <th>4</th>\n",
       "      <td>ridge</td>\n",
       "      <td>0.796656</td>\n",
       "      <td>0.635801</td>\n",
       "      <td>22.167100</td>\n",
       "    </tr>\n",
       "    <tr>\n",
       "      <th>5</th>\n",
       "      <td>top3_linear</td>\n",
       "      <td>0.375767</td>\n",
       "      <td>0.359761</td>\n",
       "      <td>75.965565</td>\n",
       "    </tr>\n",
       "    <tr>\n",
       "      <th>6</th>\n",
       "      <td>safe_lr</td>\n",
       "      <td>0.573561</td>\n",
       "      <td>0.543102</td>\n",
       "      <td>59.272193</td>\n",
       "    </tr>\n",
       "  </tbody>\n",
       "</table>\n",
       "</div>"
      ],
      "text/plain": [
       "            model        r2  adjusted_r2         mse\n",
       "0            null -0.005951    -0.947001  139.820626\n",
       "1      linear_all  0.805202     0.622972   27.075655\n",
       "2      pca_linear  0.704574     0.677717   41.062252\n",
       "3  linear_reduced  0.794534     0.632000   22.398452\n",
       "4           ridge  0.796656     0.635801   22.167100\n",
       "5     top3_linear  0.375767     0.359761   75.965565\n",
       "6         safe_lr  0.573561     0.543102   59.272193"
      ]
     },
     "execution_count": 116,
     "metadata": {},
     "output_type": "execute_result"
    }
   ],
   "source": [
    "scores"
   ]
  },
  {
   "cell_type": "code",
   "execution_count": 124,
   "metadata": {},
   "outputs": [],
   "source": [
    "reduced_scores = scores.iloc[[0, 1, 2, 5, 6], :]"
   ]
  },
  {
   "cell_type": "code",
   "execution_count": 140,
   "metadata": {},
   "outputs": [
    {
     "data": {
      "image/png": "[encoded data removed]",
      "text/plain": [
       "<Figure size 432x288 with 1 Axes>"
      ]
     },
     "metadata": {
      "needs_background": "light"
     },
     "output_type": "display_data"
    }
   ],
   "source": [
    "# plot scores\n",
    "reduced_scores.plot.bar(x='model', y=['r2', 'adjusted_r2'])\n",
    "plt.ylim(bottom=-0.1)\n",
    "plt.xticks(ticks=range(5), labels=['Null', 'Linear-All', 'PCA + Linear','Top 3-Linear', 'Safety Questions - Linear'], rotation=30)\n",
    "plt.xlabel('Model')\n",
    "plt.ylabel('Score')\n",
    "plt.title('R2 and Adjusted R2 of Various Models')\n",
    "plt.savefig('../assets/reduced_models_r2_scores.png', bbox_inches='tight');"
   ]
  },
  {
   "cell_type": "code",
   "execution_count": 139,
   "metadata": {},
   "outputs": [
    {
     "data": {
      "image/png": "[encoded data removed]",
      "text/plain": [
       "<Figure size 432x288 with 1 Axes>"
      ]
     },
     "metadata": {
      "needs_background": "light"
     },
     "output_type": "display_data"
    }
   ],
   "source": [
    "reduced_scores.plot.bar(x='model', y=['mse'], legend=None)\n",
    "plt.ylim(bottom=-0.1)\n",
    "plt.xticks(ticks=range(5), labels=['Null', 'Linear-All', 'PCA + Linear','Top 3-Linear', 'Safety Questions - Linear'], rotation=30)\n",
    "plt.xlabel('Model')\n",
    "plt.ylabel('Score')\n",
    "plt.title('Mean Squared Errors of Various Models')\n",
    "plt.savefig('../assets/reduced_models_mse.png', bbox_inches='tight');"
   ]
  },
  {
   "cell_type": "code",
   "execution_count": null,
   "metadata": {},
   "outputs": [],
   "source": []
  }
 ],
 "metadata": {
  "kernelspec": {
   "display_name": "Python 3",
   "language": "python",
   "name": "python3"
  },
  "language_info": {
   "codemirror_mode": {
    "name": "ipython",
    "version": 3
   },
   "file_extension": ".py",
   "mimetype": "text/x-python",
   "name": "python",
   "nbconvert_exporter": "python",
   "pygments_lexer": "ipython3",
   "version": "3.7.7"
  }
 },
 "nbformat": 4,
 "nbformat_minor": 4
}
